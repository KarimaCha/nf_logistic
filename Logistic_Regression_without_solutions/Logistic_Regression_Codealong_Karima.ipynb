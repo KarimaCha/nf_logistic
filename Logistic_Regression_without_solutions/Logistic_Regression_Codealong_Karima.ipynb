{
 "cells": [
  {
   "cell_type": "code",
   "execution_count": 1,
   "metadata": {},
   "outputs": [],
   "source": [
    "# import packages\n",
    "from sklearn.datasets import make_classification\n",
    "from matplotlib import pyplot as plt\n",
    "import seaborn as sns\n",
    "sns.set()\n",
    "from sklearn.model_selection import train_test_split\n",
    "from sklearn.metrics import confusion_matrix\n",
    "import pandas as pd"
   ]
  },
  {
   "cell_type": "code",
   "execution_count": 2,
   "metadata": {},
   "outputs": [],
   "source": [
    "# Next, we’ll take advantage of the make_classification function from the scikit-learn library to generate data. \n",
    "# As we mentioned previously, Logistic Regression is only applicable to binary classification problems. \n",
    "# Thus, the data points are composed of two classes."
   ]
  },
  {
   "cell_type": "code",
   "execution_count": 4,
   "metadata": {},
   "outputs": [],
   "source": [
    "x, y = make_classification(\n",
    "    n_samples=100,\n",
    "    n_features=1,\n",
    "    n_classes=2,\n",
    "    n_clusters_per_class=1,\n",
    "    flip_y=0.03,     # The fraction of samples whose class are randomly exchanged (float)\n",
    "                     # Larger values introduce noise in the labels and make the classification task harder\n",
    "    n_informative=1, # n_informative : int, optional (default=2)\n",
    "                     # The number of informative features. Each class is composed of a number\n",
    "                     # of gaussian clusters each located around the vertices of a hypercube\n",
    "                     # in a subspace of dimension ``n_informative``. For each cluster,\n",
    "                     # informative features are drawn independently from  N(0, 1) and then\n",
    "                     # randomly linearly combined within each cluster in order to add\n",
    "                     # covariance. The clusters are then placed on the vertices of the hypercube\n",
    "    n_redundant=0,   # The number of redundant features. These features are generated as\n",
    "                     # random linear combinations of the informative features.\n",
    "    n_repeated=0     # The number of duplicated features, drawn randomly from the informative\n",
    "                     # and the redundant features.\n",
    ")"
   ]
  },
  {
   "cell_type": "code",
   "execution_count": 6,
   "metadata": {},
   "outputs": [
    {
     "data": {
      "image/png": "[encoded data removed]",
      "text/plain": [
       "<Figure size 432x288 with 1 Axes>"
      ]
     },
     "metadata": {
      "needs_background": "light"
     },
     "output_type": "display_data"
    }
   ],
   "source": [
    "# We plot the relationship between the feature and classes.\n",
    "plt.scatter(x, y, c=y, cmap='rainbow');"
   ]
  },
  {
   "cell_type": "code",
   "execution_count": 9,
   "metadata": {},
   "outputs": [
    {
     "data": {
      "text/plain": [
       "((75, 1), (25, 1), (75,), (25,))"
      ]
     },
     "execution_count": 9,
     "metadata": {},
     "output_type": "execute_result"
    }
   ],
   "source": [
    "#Prior to training our model, we’ll set aside a portion of our data in order to evaluate its performance.\n",
    "x_train, x_test, y_train, y_test = train_test_split(x, y, random_state=1)\n",
    "x_train.shape, x_test.shape, y_train.shape, y_test.shape"
   ]
  },
  {
   "cell_type": "code",
   "execution_count": 20,
   "metadata": {},
   "outputs": [
    {
     "data": {
      "text/plain": [
       "LogisticRegression(C=1.0, class_weight=None, dual=False, fit_intercept=True,\n",
       "                   intercept_scaling=1, l1_ratio=None, max_iter=100,\n",
       "                   multi_class='warn', n_jobs=None, penalty='l2',\n",
       "                   random_state=None, solver='liblinear', tol=0.0001, verbose=0,\n",
       "                   warm_start=False)"
      ]
     },
     "execution_count": 20,
     "metadata": {},
     "output_type": "execute_result"
    }
   ],
   "source": [
    "# We instantiate an instance of the LogisticRegression class and call the fit function with the features \n",
    "# and the labels (since Logistic Regression is a supervised machine learning algorithm) as arguments.\n",
    "\n",
    "from sklearn.linear_model import LogisticRegression\n",
    "\n",
    "lr = LogisticRegression(solver='liblinear')  # Default solver will change from ‘liblinear’ to ‘lbfgs’ in 0.22.\n",
    "lr.fit(x_train, y_train)"
   ]
  },
  {
   "cell_type": "code",
   "execution_count": 19,
   "metadata": {},
   "outputs": [
    {
     "data": {
      "text/plain": [
       "'0.21.3'"
      ]
     },
     "execution_count": 19,
     "metadata": {},
     "output_type": "execute_result"
    }
   ],
   "source": [
    "import sklearn\n",
    "sklearn.__version__"
   ]
  },
  {
   "cell_type": "code",
   "execution_count": 21,
   "metadata": {},
   "outputs": [
    {
     "name": "stdout",
     "output_type": "stream",
     "text": [
      "[[3.27499096]]\n",
      "[0.30733466]\n"
     ]
    }
   ],
   "source": [
    "# We can access the following properties to actually view the coefficient for the slope and y-intercept \n",
    "# of the best fitting line.\n",
    "print(lr.coef_)\n",
    "print(lr.intercept_)"
   ]
  },
  {
   "cell_type": "code",
   "execution_count": 23,
   "metadata": {},
   "outputs": [
    {
     "data": {
      "text/plain": [
       "array([0, 0, 1, 0, 0, 0, 1, 0, 1, 0, 1, 1, 0, 1, 0, 0, 1, 0, 1, 1, 0, 1,\n",
       "       1, 1, 0])"
      ]
     },
     "execution_count": 23,
     "metadata": {},
     "output_type": "execute_result"
    }
   ],
   "source": [
    "# Let’s see how the model performs against data that it hasn’t been trained on.\n",
    "y_pred = lr.predict(x_test)\n",
    "y_pred"
   ]
  },
  {
   "cell_type": "code",
   "execution_count": 24,
   "metadata": {},
   "outputs": [
    {
     "data": {
      "text/plain": [
       "array([[13,  0],\n",
       "       [ 0, 12]])"
      ]
     },
     "execution_count": 24,
     "metadata": {},
     "output_type": "execute_result"
    }
   ],
   "source": [
    "# Given that this consists of a classification problem, \n",
    "# we use a confusion matrix to measure the accuracy of our model.\n",
    "\n",
    "confusion_matrix(y_test, y_pred)"
   ]
  },
  {
   "cell_type": "code",
   "execution_count": 25,
   "metadata": {},
   "outputs": [
    {
     "data": {
      "text/plain": [
       "array([[0.9699798 , 0.0300202 ],\n",
       "       [0.95709339, 0.04290661],\n",
       "       [0.01304281, 0.98695719],\n",
       "       [0.93912718, 0.06087282],\n",
       "       [0.96335382, 0.03664618],\n",
       "       [0.95407136, 0.04592864],\n",
       "       [0.01798254, 0.98201746],\n",
       "       [0.95445082, 0.04554918],\n",
       "       [0.0212143 , 0.9787857 ],\n",
       "       [0.95764504, 0.04235496],\n",
       "       [0.02326863, 0.97673137],\n",
       "       [0.02112785, 0.97887215],\n",
       "       [0.95080841, 0.04919159],\n",
       "       [0.0210242 , 0.9789758 ],\n",
       "       [0.9720957 , 0.0279043 ],\n",
       "       [0.9286833 , 0.0713167 ],\n",
       "       [0.12373446, 0.87626554],\n",
       "       [0.95368997, 0.04631003],\n",
       "       [0.03917612, 0.96082388],\n",
       "       [0.00467481, 0.99532519],\n",
       "       [0.95579274, 0.04420726],\n",
       "       [0.00413789, 0.99586211],\n",
       "       [0.00333255, 0.99666745],\n",
       "       [0.18946257, 0.81053743],\n",
       "       [0.93013976, 0.06986024]])"
      ]
     },
     "execution_count": 25,
     "metadata": {},
     "output_type": "execute_result"
    }
   ],
   "source": [
    "# If for whatever reason we’d like to check the actual probability that a data \n",
    "# point belongs to a given class, we can use the predict_proba function.\n",
    "# first column is probability of y=0, second column is probability of y=1 (for a given x value = row)\n",
    "\n",
    "y_pred_proba = lr.predict_proba(x_test)\n",
    "y_pred_proba"
   ]
  },
  {
   "cell_type": "code",
   "execution_count": 38,
   "metadata": {},
   "outputs": [
    {
     "data": {
      "text/plain": [
       "array([1., 1., 1., 1., 1., 1., 1., 1., 1., 1., 1., 1., 1., 1., 1., 1., 1.,\n",
       "       1., 1., 1., 1., 1., 1., 1., 1.])"
      ]
     },
     "execution_count": 38,
     "metadata": {},
     "output_type": "execute_result"
    }
   ],
   "source": [
    "# The first column corresponds to the probability that the sample belongs to the first class and the\n",
    "# second column corresponds to the probability that the sample belongs to the second class.\n",
    "# Hence, the sum over all columns should give a probability of one (for each row). Check this:\n",
    "import numpy as np\n",
    "np.sum(y_pred_proba, axis=1)"
   ]
  },
  {
   "cell_type": "code",
   "execution_count": 41,
   "metadata": {},
   "outputs": [
    {
     "data": {
      "text/html": [
       "<div>\n",
       "<style scoped>\n",
       "    .dataframe tbody tr th:only-of-type {\n",
       "        vertical-align: middle;\n",
       "    }\n",
       "\n",
       "    .dataframe tbody tr th {\n",
       "        vertical-align: top;\n",
       "    }\n",
       "\n",
       "    .dataframe thead th {\n",
       "        text-align: right;\n",
       "    }\n",
       "</style>\n",
       "<table border=\"1\" class=\"dataframe\">\n",
       "  <thead>\n",
       "    <tr style=\"text-align: right;\">\n",
       "      <th></th>\n",
       "      <th>x</th>\n",
       "      <th>y</th>\n",
       "    </tr>\n",
       "  </thead>\n",
       "  <tbody>\n",
       "    <tr>\n",
       "      <th>14</th>\n",
       "      <td>-1.178021</td>\n",
       "      <td>0</td>\n",
       "    </tr>\n",
       "    <tr>\n",
       "      <th>0</th>\n",
       "      <td>-1.155038</td>\n",
       "      <td>0</td>\n",
       "    </tr>\n",
       "    <tr>\n",
       "      <th>4</th>\n",
       "      <td>-1.092048</td>\n",
       "      <td>0</td>\n",
       "    </tr>\n",
       "    <tr>\n",
       "      <th>9</th>\n",
       "      <td>-1.046026</td>\n",
       "      <td>0</td>\n",
       "    </tr>\n",
       "    <tr>\n",
       "      <th>1</th>\n",
       "      <td>-1.041899</td>\n",
       "      <td>0</td>\n",
       "    </tr>\n",
       "  </tbody>\n",
       "</table>\n",
       "</div>"
      ],
      "text/plain": [
       "           x  y\n",
       "14 -1.178021  0\n",
       "0  -1.155038  0\n",
       "4  -1.092048  0\n",
       "9  -1.046026  0\n",
       "1  -1.041899  0"
      ]
     },
     "execution_count": 41,
     "metadata": {},
     "output_type": "execute_result"
    }
   ],
   "source": [
    "# Before attempting to plot the Sigmoid function, we create and DataFrame containing our test data.\n",
    "\n",
    "df = pd.DataFrame({'x': x_test[:,0], 'y': y_test})  # 2 columns: x values and corresponding labels of test set\n",
    "df = df.sort_values(by='x')\n",
    "df.head()"
   ]
  },
  {
   "cell_type": "code",
   "execution_count": 54,
   "metadata": {},
   "outputs": [
    {
     "data": {
      "text/plain": [
       "array([0.0279043 , 0.0300202 , 0.03664618, 0.04235496, 0.04290661,\n",
       "       0.04420726, 0.04554918, 0.04592864, 0.04631003, 0.04919159,\n",
       "       0.06087282, 0.06986024, 0.0713167 , 0.81053743, 0.87626554,\n",
       "       0.96082388, 0.97673137, 0.9787857 , 0.97887215, 0.9789758 ,\n",
       "       0.98201746, 0.98695719, 0.99532519, 0.99586211, 0.99666745])"
      ]
     },
     "execution_count": 54,
     "metadata": {},
     "output_type": "execute_result"
    }
   ],
   "source": [
    "# Using the sigmoid (expit) function, we calculate for each x the probability to belong to class y=1\n",
    "\n",
    "from scipy.special import expit\n",
    "\n",
    "# The expit function, also known as the logistic function, is defined as\n",
    "# expit(x) = 1/(1+exp(-x)). It is the inverse of the logit function.\n",
    "\n",
    "regression_function = df.x * lr.coef_[0][0] + lr.intercept_[0]  # 3.25*x + 0.31\n",
    "sigmoid_function = expit(regression_function).ravel()  # ravel flattens the data to an ndarray - from (25,) to (25,)?\n",
    "sigmoid_function                                       # not necessary here"
   ]
  },
  {
   "cell_type": "code",
   "execution_count": 68,
   "metadata": {},
   "outputs": [
    {
     "data": {
      "text/plain": [
       "True"
      ]
     },
     "execution_count": 68,
     "metadata": {},
     "output_type": "execute_result"
    }
   ],
   "source": [
    "# The result of our sigmoid function is the same as the result from sklearn's predict_proba method\n",
    "sorted(sigmoid_function) == sorted(y_pred_proba[:,1])  # take second column, which is probability of y=1"
   ]
  },
  {
   "cell_type": "code",
   "execution_count": 70,
   "metadata": {},
   "outputs": [
    {
     "name": "stdout",
     "output_type": "stream",
     "text": [
      "[0.027904299754192667, 0.03002020093360029, 0.036646175416515596, 0.04235496171991115, 0.04290660555057416]\n",
      "[0.027904299754192667, 0.03002020093360029, 0.036646175416515596, 0.04235496171991115, 0.04290660555057416]\n"
     ]
    }
   ],
   "source": [
    "# check again that both - sigmoid function per hand and sklearn's predict_proba function - return same values\n",
    "print(sorted(sigmoid_function)[:5])\n",
    "print(sorted(y_pred_proba[:,1])[:5])"
   ]
  },
  {
   "cell_type": "code",
   "execution_count": 76,
   "metadata": {},
   "outputs": [
    {
     "data": {
      "image/png": "[encoded data removed]",
      "text/plain": [
       "<Figure size 432x288 with 1 Axes>"
      ]
     },
     "metadata": {
      "needs_background": "light"
     },
     "output_type": "display_data"
    }
   ],
   "source": [
    "plt.plot(df.x, sigmoid_function)\n",
    "plt.scatter(df.x, df.y, c=df.y, cmap='rainbow'); # edgecolors='k');"
   ]
  }
 ],
 "metadata": {
  "kernelspec": {
   "display_name": "Python 3",
   "language": "python",
   "name": "python3"
  },
  "language_info": {
   "codemirror_mode": {
    "name": "ipython",
    "version": 3
   },
   "file_extension": ".py",
   "mimetype": "text/x-python",
   "name": "python",
   "nbconvert_exporter": "python",
   "pygments_lexer": "ipython3",
   "version": "3.6.6"
  }
 },
 "nbformat": 4,
 "nbformat_minor": 2
}
