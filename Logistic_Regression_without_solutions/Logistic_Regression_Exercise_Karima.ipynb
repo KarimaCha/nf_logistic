{
 "cells": [
  {
   "cell_type": "markdown",
   "metadata": {},
   "source": [
    "# Magazin Sales Dataset - A logistic regression analysis"
   ]
  },
  {
   "cell_type": "markdown",
   "metadata": {},
   "source": [
    "With this dataset, we will be building a **binary classification model** which will take above inputs as features and predict if the customer will buy the magazine or not. At last, we’ll evaluate our model using the confusion matrix.\n",
    "\n",
    "#### Data Dictionary\n",
    "Here are the variables that magazine reseller has on each customer from third-party sources:\n",
    "\n",
    "- Household Income (Income; rounded to the nearest $1,000.00)\n",
    "- Gender (IsFemale = 1 if the person is female, 0 otherwise)\n",
    "- Marital Status (IsMarried = 1 if married, 0 otherwise)\n",
    "- College Educated (HasCollege = 1 if has one or more years of college education, 0 otherwise)\n",
    "- Employed in a Profession (IsProfessional = 1 if employed in a profession, 0 otherwise)\n",
    "- Retired (IsRetired = 1 if retired, 0 otherwise)\n",
    "- Not employed (Unemployed = 1 if not employed, 0 otherwise)\n",
    "- Length of Residency in Current City (ResLength; in years)\n",
    "- Dual Income if Married (Dual = 1 if dual income, 0 otherwise)\n",
    "- Children (Minors = 1 if children under 18 are in the household, 0 otherwise)\n",
    "- Home ownership (Own = 1 if own residence, 0 otherwise)\n",
    "- Resident type (House = 1 if the residence is a single-family house, 0 otherwise)\n",
    "- Race (White = 1 if the race is white, 0 otherwise)\n",
    "- Language (English = 1 is the primary language in the household is English, 0 otherwise)"
   ]
  },
  {
   "cell_type": "markdown",
   "metadata": {},
   "source": [
    "## 1) Import Packages and Dataset"
   ]
  },
  {
   "cell_type": "code",
   "execution_count": 246,
   "metadata": {},
   "outputs": [],
   "source": [
    "# Import packages\n",
    "\n",
    "import pandas as pd\n",
    "import numpy as np\n",
    "import matplotlib.pyplot as plt"
   ]
  },
  {
   "cell_type": "code",
   "execution_count": 247,
   "metadata": {},
   "outputs": [
    {
     "data": {
      "text/plain": [
       "(673, 18)"
      ]
     },
     "execution_count": 247,
     "metadata": {},
     "output_type": "execute_result"
    }
   ],
   "source": [
    "# Import kid.csv dataset\n",
    "\n",
    "df = pd.read_csv('kid.csv')\n",
    "df.shape"
   ]
  },
  {
   "cell_type": "markdown",
   "metadata": {},
   "source": [
    "## 2) Data Cleaning"
   ]
  },
  {
   "cell_type": "code",
   "execution_count": 248,
   "metadata": {
    "scrolled": false
   },
   "outputs": [
    {
     "data": {
      "text/html": [
       "<div>\n",
       "<style scoped>\n",
       "    .dataframe tbody tr th:only-of-type {\n",
       "        vertical-align: middle;\n",
       "    }\n",
       "\n",
       "    .dataframe tbody tr th {\n",
       "        vertical-align: top;\n",
       "    }\n",
       "\n",
       "    .dataframe thead th {\n",
       "        text-align: right;\n",
       "    }\n",
       "</style>\n",
       "<table border=\"1\" class=\"dataframe\">\n",
       "  <thead>\n",
       "    <tr style=\"text-align: right;\">\n",
       "      <th></th>\n",
       "      <th>Obs No.</th>\n",
       "      <th>Buy</th>\n",
       "      <th>Income</th>\n",
       "      <th>Is Female</th>\n",
       "      <th>Is Married</th>\n",
       "      <th>Has College</th>\n",
       "      <th>Is Professional</th>\n",
       "      <th>Is Retired</th>\n",
       "      <th>Unemployed</th>\n",
       "      <th>Residence Length</th>\n",
       "      <th>Dual Income</th>\n",
       "      <th>Minors</th>\n",
       "      <th>Own</th>\n",
       "      <th>House</th>\n",
       "      <th>White</th>\n",
       "      <th>English</th>\n",
       "      <th>Prev Child Mag</th>\n",
       "      <th>Prev Parent Mag</th>\n",
       "    </tr>\n",
       "  </thead>\n",
       "  <tbody>\n",
       "    <tr>\n",
       "      <th>0</th>\n",
       "      <td>1</td>\n",
       "      <td>0</td>\n",
       "      <td>24000</td>\n",
       "      <td>1</td>\n",
       "      <td>0</td>\n",
       "      <td>1</td>\n",
       "      <td>1</td>\n",
       "      <td>0</td>\n",
       "      <td>0</td>\n",
       "      <td>26</td>\n",
       "      <td>0</td>\n",
       "      <td>0</td>\n",
       "      <td>0</td>\n",
       "      <td>1</td>\n",
       "      <td>0</td>\n",
       "      <td>0</td>\n",
       "      <td>0</td>\n",
       "      <td>0</td>\n",
       "    </tr>\n",
       "    <tr>\n",
       "      <th>1</th>\n",
       "      <td>2</td>\n",
       "      <td>1</td>\n",
       "      <td>75000</td>\n",
       "      <td>1</td>\n",
       "      <td>1</td>\n",
       "      <td>1</td>\n",
       "      <td>1</td>\n",
       "      <td>0</td>\n",
       "      <td>0</td>\n",
       "      <td>15</td>\n",
       "      <td>1</td>\n",
       "      <td>0</td>\n",
       "      <td>1</td>\n",
       "      <td>1</td>\n",
       "      <td>1</td>\n",
       "      <td>1</td>\n",
       "      <td>1</td>\n",
       "      <td>0</td>\n",
       "    </tr>\n",
       "    <tr>\n",
       "      <th>2</th>\n",
       "      <td>3</td>\n",
       "      <td>0</td>\n",
       "      <td>46000</td>\n",
       "      <td>1</td>\n",
       "      <td>1</td>\n",
       "      <td>0</td>\n",
       "      <td>0</td>\n",
       "      <td>0</td>\n",
       "      <td>0</td>\n",
       "      <td>36</td>\n",
       "      <td>1</td>\n",
       "      <td>1</td>\n",
       "      <td>1</td>\n",
       "      <td>1</td>\n",
       "      <td>1</td>\n",
       "      <td>1</td>\n",
       "      <td>0</td>\n",
       "      <td>0</td>\n",
       "    </tr>\n",
       "  </tbody>\n",
       "</table>\n",
       "</div>"
      ],
      "text/plain": [
       "   Obs No.  Buy  Income  Is Female  Is Married  Has College  Is Professional  \\\n",
       "0        1    0   24000          1           0            1                1   \n",
       "1        2    1   75000          1           1            1                1   \n",
       "2        3    0   46000          1           1            0                0   \n",
       "\n",
       "   Is Retired  Unemployed  Residence Length  Dual Income  Minors  Own  House  \\\n",
       "0           0           0                26            0       0    0      1   \n",
       "1           0           0                15            1       0    1      1   \n",
       "2           0           0                36            1       1    1      1   \n",
       "\n",
       "   White  English  Prev Child Mag  Prev Parent Mag  \n",
       "0      0        0               0                0  \n",
       "1      1        1               1                0  \n",
       "2      1        1               0                0  "
      ]
     },
     "execution_count": 248,
     "metadata": {},
     "output_type": "execute_result"
    }
   ],
   "source": [
    "# check head of dataset\n",
    "df.head(3)"
   ]
  },
  {
   "cell_type": "code",
   "execution_count": 249,
   "metadata": {},
   "outputs": [
    {
     "data": {
      "text/plain": [
       "Index(['obs_no.', 'buy', 'income', 'is_female', 'is_married', 'has_college',\n",
       "       'is_professional', 'is_retired', 'unemployed', 'residence_length',\n",
       "       'dual_income', 'minors', 'own', 'house', 'white', 'english',\n",
       "       'prev_child_mag', 'prev_parent_mag'],\n",
       "      dtype='object')"
      ]
     },
     "execution_count": 249,
     "metadata": {},
     "output_type": "execute_result"
    }
   ],
   "source": [
    "# change columns names to snake_case (lower case letters with underscores instead of whitespaces)\n",
    "\n",
    "df.columns = df.columns.str.lower().str.replace(' ', '_')\n",
    "df.columns"
   ]
  },
  {
   "cell_type": "code",
   "execution_count": 250,
   "metadata": {},
   "outputs": [
    {
     "data": {
      "text/plain": [
       "0"
      ]
     },
     "execution_count": 250,
     "metadata": {},
     "output_type": "execute_result"
    }
   ],
   "source": [
    "# check for duplicates  --> no duplicates\n",
    "df.duplicated().sum()"
   ]
  },
  {
   "cell_type": "code",
   "execution_count": 251,
   "metadata": {},
   "outputs": [
    {
     "name": "stdout",
     "output_type": "stream",
     "text": [
      "True\n"
     ]
    },
    {
     "data": {
      "text/html": [
       "<div>\n",
       "<style scoped>\n",
       "    .dataframe tbody tr th:only-of-type {\n",
       "        vertical-align: middle;\n",
       "    }\n",
       "\n",
       "    .dataframe tbody tr th {\n",
       "        vertical-align: top;\n",
       "    }\n",
       "\n",
       "    .dataframe thead th {\n",
       "        text-align: right;\n",
       "    }\n",
       "</style>\n",
       "<table border=\"1\" class=\"dataframe\">\n",
       "  <thead>\n",
       "    <tr style=\"text-align: right;\">\n",
       "      <th></th>\n",
       "      <th>buy</th>\n",
       "      <th>income</th>\n",
       "      <th>is_female</th>\n",
       "      <th>is_married</th>\n",
       "      <th>has_college</th>\n",
       "      <th>is_professional</th>\n",
       "      <th>is_retired</th>\n",
       "      <th>unemployed</th>\n",
       "      <th>residence_length</th>\n",
       "      <th>dual_income</th>\n",
       "      <th>minors</th>\n",
       "      <th>own</th>\n",
       "      <th>house</th>\n",
       "      <th>white</th>\n",
       "      <th>english</th>\n",
       "      <th>prev_child_mag</th>\n",
       "      <th>prev_parent_mag</th>\n",
       "    </tr>\n",
       "  </thead>\n",
       "  <tbody>\n",
       "    <tr>\n",
       "      <th>0</th>\n",
       "      <td>0</td>\n",
       "      <td>24000</td>\n",
       "      <td>1</td>\n",
       "      <td>0</td>\n",
       "      <td>1</td>\n",
       "      <td>1</td>\n",
       "      <td>0</td>\n",
       "      <td>0</td>\n",
       "      <td>26</td>\n",
       "      <td>0</td>\n",
       "      <td>0</td>\n",
       "      <td>0</td>\n",
       "      <td>1</td>\n",
       "      <td>0</td>\n",
       "      <td>0</td>\n",
       "      <td>0</td>\n",
       "      <td>0</td>\n",
       "    </tr>\n",
       "    <tr>\n",
       "      <th>1</th>\n",
       "      <td>1</td>\n",
       "      <td>75000</td>\n",
       "      <td>1</td>\n",
       "      <td>1</td>\n",
       "      <td>1</td>\n",
       "      <td>1</td>\n",
       "      <td>0</td>\n",
       "      <td>0</td>\n",
       "      <td>15</td>\n",
       "      <td>1</td>\n",
       "      <td>0</td>\n",
       "      <td>1</td>\n",
       "      <td>1</td>\n",
       "      <td>1</td>\n",
       "      <td>1</td>\n",
       "      <td>1</td>\n",
       "      <td>0</td>\n",
       "    </tr>\n",
       "    <tr>\n",
       "      <th>2</th>\n",
       "      <td>0</td>\n",
       "      <td>46000</td>\n",
       "      <td>1</td>\n",
       "      <td>1</td>\n",
       "      <td>0</td>\n",
       "      <td>0</td>\n",
       "      <td>0</td>\n",
       "      <td>0</td>\n",
       "      <td>36</td>\n",
       "      <td>1</td>\n",
       "      <td>1</td>\n",
       "      <td>1</td>\n",
       "      <td>1</td>\n",
       "      <td>1</td>\n",
       "      <td>1</td>\n",
       "      <td>0</td>\n",
       "      <td>0</td>\n",
       "    </tr>\n",
       "  </tbody>\n",
       "</table>\n",
       "</div>"
      ],
      "text/plain": [
       "   buy  income  is_female  is_married  has_college  is_professional  \\\n",
       "0    0   24000          1           0            1                1   \n",
       "1    1   75000          1           1            1                1   \n",
       "2    0   46000          1           1            0                0   \n",
       "\n",
       "   is_retired  unemployed  residence_length  dual_income  minors  own  house  \\\n",
       "0           0           0                26            0       0    0      1   \n",
       "1           0           0                15            1       0    1      1   \n",
       "2           0           0                36            1       1    1      1   \n",
       "\n",
       "   white  english  prev_child_mag  prev_parent_mag  \n",
       "0      0        0               0                0  \n",
       "1      1        1               1                0  \n",
       "2      1        1               0                0  "
      ]
     },
     "execution_count": 251,
     "metadata": {},
     "output_type": "execute_result"
    }
   ],
   "source": [
    "# remove first column (observation number), since it has no more information than the row index\n",
    "\n",
    "print(all(list(df.index+1) == df['obs_no.']))  # shows that observation number is equal to index + 1\n",
    "df.drop(['obs_no.'], axis=1, inplace=True)\n",
    "df.head(3)"
   ]
  },
  {
   "cell_type": "code",
   "execution_count": 252,
   "metadata": {},
   "outputs": [
    {
     "data": {
      "text/plain": [
       "buy                 int64\n",
       "income              int64\n",
       "is_female           int64\n",
       "is_married          int64\n",
       "has_college         int64\n",
       "is_professional     int64\n",
       "is_retired          int64\n",
       "unemployed          int64\n",
       "residence_length    int64\n",
       "dual_income         int64\n",
       "minors              int64\n",
       "own                 int64\n",
       "house               int64\n",
       "white               int64\n",
       "english             int64\n",
       "prev_child_mag      int64\n",
       "prev_parent_mag     int64\n",
       "dtype: object"
      ]
     },
     "execution_count": 252,
     "metadata": {},
     "output_type": "execute_result"
    }
   ],
   "source": [
    "# check data types \n",
    "df.dtypes"
   ]
  },
  {
   "cell_type": "markdown",
   "metadata": {},
   "source": [
    "All features are of data type *integer*, which seems reasonable considering the data dictionary:\n",
    "  - 12 categorical variables with only 0/1\n",
    "  - 2 numeric variables (Household Income - rounded to nearest $1000, Lenth of Residency - rounded to years)"
   ]
  },
  {
   "cell_type": "code",
   "execution_count": 253,
   "metadata": {},
   "outputs": [
    {
     "data": {
      "text/plain": [
       "buy                 0\n",
       "income              0\n",
       "is_female           0\n",
       "is_married          0\n",
       "has_college         0\n",
       "is_professional     0\n",
       "is_retired          0\n",
       "unemployed          0\n",
       "residence_length    0\n",
       "dual_income         0\n",
       "minors              0\n",
       "own                 0\n",
       "house               0\n",
       "white               0\n",
       "english             0\n",
       "prev_child_mag      0\n",
       "prev_parent_mag     0\n",
       "dtype: int64"
      ]
     },
     "execution_count": 253,
     "metadata": {},
     "output_type": "execute_result"
    }
   ],
   "source": [
    "# check for missing data --> no missing data\n",
    "df.isnull().sum()"
   ]
  },
  {
   "cell_type": "markdown",
   "metadata": {},
   "source": [
    "## 3) Data Exploration & Visualization"
   ]
  },
  {
   "cell_type": "markdown",
   "metadata": {},
   "source": [
    "### Binary variables: distribution"
   ]
  },
  {
   "cell_type": "code",
   "execution_count": 254,
   "metadata": {},
   "outputs": [
    {
     "data": {
      "text/html": [
       "<div>\n",
       "<style scoped>\n",
       "    .dataframe tbody tr th:only-of-type {\n",
       "        vertical-align: middle;\n",
       "    }\n",
       "\n",
       "    .dataframe tbody tr th {\n",
       "        vertical-align: top;\n",
       "    }\n",
       "\n",
       "    .dataframe thead th {\n",
       "        text-align: right;\n",
       "    }\n",
       "</style>\n",
       "<table border=\"1\" class=\"dataframe\">\n",
       "  <thead>\n",
       "    <tr style=\"text-align: right;\">\n",
       "      <th></th>\n",
       "      <th>buy</th>\n",
       "      <th>is_female</th>\n",
       "      <th>is_married</th>\n",
       "      <th>has_college</th>\n",
       "      <th>is_professional</th>\n",
       "      <th>is_retired</th>\n",
       "      <th>unemployed</th>\n",
       "      <th>dual_income</th>\n",
       "      <th>minors</th>\n",
       "      <th>own</th>\n",
       "      <th>house</th>\n",
       "      <th>white</th>\n",
       "      <th>english</th>\n",
       "      <th>prev_child_mag</th>\n",
       "      <th>prev_parent_mag</th>\n",
       "    </tr>\n",
       "  </thead>\n",
       "  <tbody>\n",
       "    <tr>\n",
       "      <th>0</th>\n",
       "      <td>548</td>\n",
       "      <td>302</td>\n",
       "      <td>438</td>\n",
       "      <td>478</td>\n",
       "      <td>443</td>\n",
       "      <td>634</td>\n",
       "      <td>652</td>\n",
       "      <td>517</td>\n",
       "      <td>428</td>\n",
       "      <td>429</td>\n",
       "      <td>224</td>\n",
       "      <td>207</td>\n",
       "      <td>61</td>\n",
       "      <td>625</td>\n",
       "      <td>616</td>\n",
       "    </tr>\n",
       "    <tr>\n",
       "      <th>1</th>\n",
       "      <td>125</td>\n",
       "      <td>371</td>\n",
       "      <td>235</td>\n",
       "      <td>195</td>\n",
       "      <td>230</td>\n",
       "      <td>39</td>\n",
       "      <td>21</td>\n",
       "      <td>156</td>\n",
       "      <td>245</td>\n",
       "      <td>244</td>\n",
       "      <td>449</td>\n",
       "      <td>466</td>\n",
       "      <td>612</td>\n",
       "      <td>48</td>\n",
       "      <td>57</td>\n",
       "    </tr>\n",
       "  </tbody>\n",
       "</table>\n",
       "</div>"
      ],
      "text/plain": [
       "   buy  is_female  is_married  has_college  is_professional  is_retired  \\\n",
       "0  548        302         438          478              443         634   \n",
       "1  125        371         235          195              230          39   \n",
       "\n",
       "   unemployed  dual_income  minors  own  house  white  english  \\\n",
       "0         652          517     428  429    224    207       61   \n",
       "1          21          156     245  244    449    466      612   \n",
       "\n",
       "   prev_child_mag  prev_parent_mag  \n",
       "0             625              616  \n",
       "1              48               57  "
      ]
     },
     "execution_count": 254,
     "metadata": {},
     "output_type": "execute_result"
    }
   ],
   "source": [
    "# make a new dataframe that holds the value counts (0 or 1) for each binary variable\n",
    "\n",
    "val_counts = pd.DataFrame()\n",
    "for col in df:\n",
    "    col_counts = df[col].value_counts().sort_index()     # get value counts for feature\n",
    "    if list(col_counts.index) == [0, 1]:                 # only include binary features (where index either 0 or 1)\n",
    "        val_counts = pd.concat([val_counts, df[col].value_counts()], axis=1)\n",
    "val_counts"
   ]
  },
  {
   "cell_type": "code",
   "execution_count": 255,
   "metadata": {},
   "outputs": [
    {
     "data": {
      "image/png": "[encoded data removed]",
      "text/plain": [
       "<Figure size 1080x360 with 1 Axes>"
      ]
     },
     "metadata": {
      "needs_background": "light"
     },
     "output_type": "display_data"
    }
   ],
   "source": [
    "# plot value counts for all binary variables in a bar plot (note: transpose the dataframe for this)\n",
    "val_counts.T.plot(kind='bar', color=['blue','red'], figsize=(15,5))\n",
    "plt.xticks(rotation=20)\n",
    "plt.ylabel('count');"
   ]
  },
  {
   "cell_type": "code",
   "execution_count": 256,
   "metadata": {},
   "outputs": [
    {
     "data": {
      "image/png": "[encoded data removed]",
      "text/plain": [
       "<Figure size 1080x360 with 1 Axes>"
      ]
     },
     "metadata": {
      "needs_background": "light"
     },
     "output_type": "display_data"
    }
   ],
   "source": [
    "# do the same plot, but with percentage instead of counts\n",
    "val_percent = val_counts / df.shape[0] * 100\n",
    "val_percent.T.plot(kind='bar', color=['blue','red'], figsize=(15,5))\n",
    "plt.xticks(rotation=20)\n",
    "plt.ylabel('percentage');"
   ]
  },
  {
   "cell_type": "markdown",
   "metadata": {},
   "source": [
    "### Continuous variables: distribution"
   ]
  },
  {
   "cell_type": "code",
   "execution_count": 257,
   "metadata": {},
   "outputs": [
    {
     "data": {
      "text/plain": [
       "['income', 'residence_length']"
      ]
     },
     "execution_count": 257,
     "metadata": {},
     "output_type": "execute_result"
    }
   ],
   "source": [
    "# get the name of features in dataframe that are not binary (i.e. that are not plotted above) \n",
    "\n",
    "num_cols = [col for col in df.columns if col not in val_counts.columns]\n",
    "num_cols"
   ]
  },
  {
   "cell_type": "code",
   "execution_count": 258,
   "metadata": {},
   "outputs": [
    {
     "data": {
      "image/png": "[encoded data removed]",
      "text/plain": [
       "<Figure size 1080x288 with 2 Axes>"
      ]
     },
     "metadata": {
      "needs_background": "light"
     },
     "output_type": "display_data"
    }
   ],
   "source": [
    "# plot histograms of these features (with matplotlib)\n",
    "fig, ax = plt.subplots(1,2, figsize=(15,4))\n",
    "\n",
    "plt.subplot(121)\n",
    "df.income.plot(kind='hist', bins=25)\n",
    "plt.xlabel('income');\n",
    "\n",
    "plt.subplot(122)\n",
    "df.residence_length.plot(kind='hist', bins=25)\n",
    "plt.xlabel('residence length');"
   ]
  },
  {
   "cell_type": "code",
   "execution_count": 259,
   "metadata": {},
   "outputs": [
    {
     "data": {
      "image/png": "[encoded data removed]",
      "text/plain": [
       "<Figure size 1080x288 with 2 Axes>"
      ]
     },
     "metadata": {
      "needs_background": "light"
     },
     "output_type": "display_data"
    }
   ],
   "source": [
    "# plot histograms with kde (Gaussian kernel density estimate) with seaborn\n",
    "import seaborn as sns\n",
    "import warnings\n",
    "warnings.filterwarnings('ignore')  # to ignore seaborn warnings\n",
    "\n",
    "fig, ax = plt.subplots(1,2, figsize=(15,4))\n",
    "\n",
    "plt.subplot(121)\n",
    "sns.distplot(df.income, bins=25, kde=True)\n",
    "\n",
    "plt.subplot(122)\n",
    "sns.distplot(df.residence_length, bins=25, kde=True);"
   ]
  },
  {
   "cell_type": "code",
   "execution_count": 260,
   "metadata": {},
   "outputs": [
    {
     "name": "stdout",
     "output_type": "stream",
     "text": [
      "income\n",
      "  - mean : 35078.752\n",
      "  - var  : 23795.089\n",
      "  - skew : 0.315\n",
      "  - kurt : -1.121\n",
      "\n",
      "residence_length\n",
      "  - mean : 17.618\n",
      "  - var  : 13.546\n",
      "  - skew : 1.032\n",
      "  - kurt : 1.015\n",
      "\n"
     ]
    }
   ],
   "source": [
    "# calculate skewness and kurtosis for both numerical features\n",
    "  # skewness (asymmetry) is 0 for normal distribution (<0: tail on right side, >0: tail on left side)\n",
    "  # excess kurtosis (tailedness) is 0 for normal distribution (cave: Pearsons's kurtosis is excess curtosis + 3)\n",
    "  #        - <0: platykurtic (fewer/less extreme outliers than ND, e.g. uniform distribution)\n",
    "  #        - >0: leptokurtic (more/more extreme outliers than ND, e.g. Laplace distribution)\n",
    "\n",
    "from scipy.stats import kurtosis, skew\n",
    "\n",
    "for col in num_cols:\n",
    "    print(col)\n",
    "    print(\"  - mean : {:.3f}\".format(np.mean(df[col])))\n",
    "    print(\"  - var  : {:.3f}\".format(np.std(df[col])))\n",
    "    print(\"  - skew : {:.3f}\".format(skew(df[col])))      \n",
    "    print(\"  - kurt : {:.3f}\".format(kurtosis(df[col])))  # here: excess kurtosis (is 0 for ND)\n",
    "    print('')"
   ]
  },
  {
   "cell_type": "markdown",
   "metadata": {},
   "source": [
    "We note that `income` varies widely between zero and >70000. There seems to be a maximal income of 75 000 $ in the dataset. The feature is platykurtic, i.e. it has less outliers than the normal distribution and resembles more a uniform distriburtion. \n",
    "\n",
    "The `residence_length` varies between 0 and 72 years and the distribution is heavily left-skewed (only few observations with > 40 years of residency). It is leptokurtic, i.e. produces more outliers than the normal distribution."
   ]
  },
  {
   "cell_type": "markdown",
   "metadata": {},
   "source": [
    "### Heatmap (correlation matrix)"
   ]
  },
  {
   "cell_type": "code",
   "execution_count": 261,
   "metadata": {},
   "outputs": [
    {
     "data": {
      "text/html": [
       "<div>\n",
       "<style scoped>\n",
       "    .dataframe tbody tr th:only-of-type {\n",
       "        vertical-align: middle;\n",
       "    }\n",
       "\n",
       "    .dataframe tbody tr th {\n",
       "        vertical-align: top;\n",
       "    }\n",
       "\n",
       "    .dataframe thead th {\n",
       "        text-align: right;\n",
       "    }\n",
       "</style>\n",
       "<table border=\"1\" class=\"dataframe\">\n",
       "  <thead>\n",
       "    <tr style=\"text-align: right;\">\n",
       "      <th></th>\n",
       "      <th>buy</th>\n",
       "      <th>income</th>\n",
       "      <th>is_female</th>\n",
       "      <th>is_married</th>\n",
       "      <th>has_college</th>\n",
       "      <th>is_professional</th>\n",
       "      <th>is_retired</th>\n",
       "      <th>unemployed</th>\n",
       "      <th>residence_length</th>\n",
       "      <th>dual_income</th>\n",
       "      <th>minors</th>\n",
       "      <th>own</th>\n",
       "      <th>house</th>\n",
       "      <th>white</th>\n",
       "      <th>english</th>\n",
       "      <th>prev_child_mag</th>\n",
       "      <th>prev_parent_mag</th>\n",
       "    </tr>\n",
       "  </thead>\n",
       "  <tbody>\n",
       "    <tr>\n",
       "      <th>buy</th>\n",
       "      <td>1.00</td>\n",
       "      <td>0.68</td>\n",
       "      <td>0.08</td>\n",
       "      <td>0.36</td>\n",
       "      <td>0.20</td>\n",
       "      <td>0.23</td>\n",
       "      <td>-0.02</td>\n",
       "      <td>-0.06</td>\n",
       "      <td>0.16</td>\n",
       "      <td>0.31</td>\n",
       "      <td>0.02</td>\n",
       "      <td>0.38</td>\n",
       "      <td>0.18</td>\n",
       "      <td>0.20</td>\n",
       "      <td>0.08</td>\n",
       "      <td>0.15</td>\n",
       "      <td>0.07</td>\n",
       "    </tr>\n",
       "    <tr>\n",
       "      <th>income</th>\n",
       "      <td>0.68</td>\n",
       "      <td>1.00</td>\n",
       "      <td>-0.05</td>\n",
       "      <td>0.43</td>\n",
       "      <td>0.32</td>\n",
       "      <td>0.38</td>\n",
       "      <td>0.03</td>\n",
       "      <td>-0.14</td>\n",
       "      <td>0.20</td>\n",
       "      <td>0.33</td>\n",
       "      <td>-0.10</td>\n",
       "      <td>0.49</td>\n",
       "      <td>0.19</td>\n",
       "      <td>0.20</td>\n",
       "      <td>0.07</td>\n",
       "      <td>0.10</td>\n",
       "      <td>0.08</td>\n",
       "    </tr>\n",
       "    <tr>\n",
       "      <th>is_female</th>\n",
       "      <td>0.08</td>\n",
       "      <td>-0.05</td>\n",
       "      <td>1.00</td>\n",
       "      <td>0.07</td>\n",
       "      <td>-0.10</td>\n",
       "      <td>-0.02</td>\n",
       "      <td>0.01</td>\n",
       "      <td>-0.04</td>\n",
       "      <td>0.03</td>\n",
       "      <td>0.04</td>\n",
       "      <td>0.09</td>\n",
       "      <td>0.09</td>\n",
       "      <td>0.03</td>\n",
       "      <td>0.08</td>\n",
       "      <td>0.08</td>\n",
       "      <td>0.04</td>\n",
       "      <td>-0.00</td>\n",
       "    </tr>\n",
       "    <tr>\n",
       "      <th>is_married</th>\n",
       "      <td>0.36</td>\n",
       "      <td>0.43</td>\n",
       "      <td>0.07</td>\n",
       "      <td>1.00</td>\n",
       "      <td>0.12</td>\n",
       "      <td>0.10</td>\n",
       "      <td>0.11</td>\n",
       "      <td>-0.06</td>\n",
       "      <td>0.23</td>\n",
       "      <td>0.65</td>\n",
       "      <td>0.06</td>\n",
       "      <td>0.58</td>\n",
       "      <td>0.22</td>\n",
       "      <td>0.06</td>\n",
       "      <td>0.04</td>\n",
       "      <td>0.05</td>\n",
       "      <td>0.01</td>\n",
       "    </tr>\n",
       "    <tr>\n",
       "      <th>has_college</th>\n",
       "      <td>0.20</td>\n",
       "      <td>0.32</td>\n",
       "      <td>-0.10</td>\n",
       "      <td>0.12</td>\n",
       "      <td>1.00</td>\n",
       "      <td>0.37</td>\n",
       "      <td>0.04</td>\n",
       "      <td>-0.04</td>\n",
       "      <td>0.01</td>\n",
       "      <td>0.14</td>\n",
       "      <td>-0.21</td>\n",
       "      <td>0.17</td>\n",
       "      <td>-0.10</td>\n",
       "      <td>0.11</td>\n",
       "      <td>0.08</td>\n",
       "      <td>-0.01</td>\n",
       "      <td>0.08</td>\n",
       "    </tr>\n",
       "    <tr>\n",
       "      <th>is_professional</th>\n",
       "      <td>0.23</td>\n",
       "      <td>0.38</td>\n",
       "      <td>-0.02</td>\n",
       "      <td>0.10</td>\n",
       "      <td>0.37</td>\n",
       "      <td>1.00</td>\n",
       "      <td>-0.18</td>\n",
       "      <td>-0.13</td>\n",
       "      <td>-0.00</td>\n",
       "      <td>0.18</td>\n",
       "      <td>-0.17</td>\n",
       "      <td>0.17</td>\n",
       "      <td>-0.05</td>\n",
       "      <td>0.11</td>\n",
       "      <td>0.12</td>\n",
       "      <td>0.06</td>\n",
       "      <td>0.01</td>\n",
       "    </tr>\n",
       "    <tr>\n",
       "      <th>is_retired</th>\n",
       "      <td>-0.02</td>\n",
       "      <td>0.03</td>\n",
       "      <td>0.01</td>\n",
       "      <td>0.11</td>\n",
       "      <td>0.04</td>\n",
       "      <td>-0.18</td>\n",
       "      <td>1.00</td>\n",
       "      <td>-0.04</td>\n",
       "      <td>0.17</td>\n",
       "      <td>-0.14</td>\n",
       "      <td>-0.13</td>\n",
       "      <td>0.21</td>\n",
       "      <td>0.01</td>\n",
       "      <td>0.10</td>\n",
       "      <td>0.08</td>\n",
       "      <td>-0.04</td>\n",
       "      <td>-0.03</td>\n",
       "    </tr>\n",
       "    <tr>\n",
       "      <th>unemployed</th>\n",
       "      <td>-0.06</td>\n",
       "      <td>-0.14</td>\n",
       "      <td>-0.04</td>\n",
       "      <td>-0.06</td>\n",
       "      <td>-0.04</td>\n",
       "      <td>-0.13</td>\n",
       "      <td>-0.04</td>\n",
       "      <td>1.00</td>\n",
       "      <td>-0.02</td>\n",
       "      <td>-0.06</td>\n",
       "      <td>0.06</td>\n",
       "      <td>-0.05</td>\n",
       "      <td>0.04</td>\n",
       "      <td>-0.05</td>\n",
       "      <td>-0.09</td>\n",
       "      <td>-0.02</td>\n",
       "      <td>-0.02</td>\n",
       "    </tr>\n",
       "    <tr>\n",
       "      <th>residence_length</th>\n",
       "      <td>0.16</td>\n",
       "      <td>0.20</td>\n",
       "      <td>0.03</td>\n",
       "      <td>0.23</td>\n",
       "      <td>0.01</td>\n",
       "      <td>-0.00</td>\n",
       "      <td>0.17</td>\n",
       "      <td>-0.02</td>\n",
       "      <td>1.00</td>\n",
       "      <td>0.09</td>\n",
       "      <td>-0.01</td>\n",
       "      <td>0.27</td>\n",
       "      <td>0.16</td>\n",
       "      <td>0.01</td>\n",
       "      <td>0.06</td>\n",
       "      <td>0.01</td>\n",
       "      <td>0.03</td>\n",
       "    </tr>\n",
       "    <tr>\n",
       "      <th>dual_income</th>\n",
       "      <td>0.31</td>\n",
       "      <td>0.33</td>\n",
       "      <td>0.04</td>\n",
       "      <td>0.65</td>\n",
       "      <td>0.14</td>\n",
       "      <td>0.18</td>\n",
       "      <td>-0.14</td>\n",
       "      <td>-0.06</td>\n",
       "      <td>0.09</td>\n",
       "      <td>1.00</td>\n",
       "      <td>0.02</td>\n",
       "      <td>0.32</td>\n",
       "      <td>0.08</td>\n",
       "      <td>0.02</td>\n",
       "      <td>0.05</td>\n",
       "      <td>0.05</td>\n",
       "      <td>0.09</td>\n",
       "    </tr>\n",
       "    <tr>\n",
       "      <th>minors</th>\n",
       "      <td>0.02</td>\n",
       "      <td>-0.10</td>\n",
       "      <td>0.09</td>\n",
       "      <td>0.06</td>\n",
       "      <td>-0.21</td>\n",
       "      <td>-0.17</td>\n",
       "      <td>-0.13</td>\n",
       "      <td>0.06</td>\n",
       "      <td>-0.01</td>\n",
       "      <td>0.02</td>\n",
       "      <td>1.00</td>\n",
       "      <td>-0.05</td>\n",
       "      <td>0.29</td>\n",
       "      <td>-0.16</td>\n",
       "      <td>-0.12</td>\n",
       "      <td>0.01</td>\n",
       "      <td>-0.05</td>\n",
       "    </tr>\n",
       "    <tr>\n",
       "      <th>own</th>\n",
       "      <td>0.38</td>\n",
       "      <td>0.49</td>\n",
       "      <td>0.09</td>\n",
       "      <td>0.58</td>\n",
       "      <td>0.17</td>\n",
       "      <td>0.17</td>\n",
       "      <td>0.21</td>\n",
       "      <td>-0.05</td>\n",
       "      <td>0.27</td>\n",
       "      <td>0.32</td>\n",
       "      <td>-0.05</td>\n",
       "      <td>1.00</td>\n",
       "      <td>0.42</td>\n",
       "      <td>0.12</td>\n",
       "      <td>0.08</td>\n",
       "      <td>0.02</td>\n",
       "      <td>0.05</td>\n",
       "    </tr>\n",
       "    <tr>\n",
       "      <th>house</th>\n",
       "      <td>0.18</td>\n",
       "      <td>0.19</td>\n",
       "      <td>0.03</td>\n",
       "      <td>0.22</td>\n",
       "      <td>-0.10</td>\n",
       "      <td>-0.05</td>\n",
       "      <td>0.01</td>\n",
       "      <td>0.04</td>\n",
       "      <td>0.16</td>\n",
       "      <td>0.08</td>\n",
       "      <td>0.29</td>\n",
       "      <td>0.42</td>\n",
       "      <td>1.00</td>\n",
       "      <td>-0.03</td>\n",
       "      <td>-0.07</td>\n",
       "      <td>0.01</td>\n",
       "      <td>-0.05</td>\n",
       "    </tr>\n",
       "    <tr>\n",
       "      <th>white</th>\n",
       "      <td>0.20</td>\n",
       "      <td>0.20</td>\n",
       "      <td>0.08</td>\n",
       "      <td>0.06</td>\n",
       "      <td>0.11</td>\n",
       "      <td>0.11</td>\n",
       "      <td>0.10</td>\n",
       "      <td>-0.05</td>\n",
       "      <td>0.01</td>\n",
       "      <td>0.02</td>\n",
       "      <td>-0.16</td>\n",
       "      <td>0.12</td>\n",
       "      <td>-0.03</td>\n",
       "      <td>1.00</td>\n",
       "      <td>0.36</td>\n",
       "      <td>-0.02</td>\n",
       "      <td>0.05</td>\n",
       "    </tr>\n",
       "    <tr>\n",
       "      <th>english</th>\n",
       "      <td>0.08</td>\n",
       "      <td>0.07</td>\n",
       "      <td>0.08</td>\n",
       "      <td>0.04</td>\n",
       "      <td>0.08</td>\n",
       "      <td>0.12</td>\n",
       "      <td>0.08</td>\n",
       "      <td>-0.09</td>\n",
       "      <td>0.06</td>\n",
       "      <td>0.05</td>\n",
       "      <td>-0.12</td>\n",
       "      <td>0.08</td>\n",
       "      <td>-0.07</td>\n",
       "      <td>0.36</td>\n",
       "      <td>1.00</td>\n",
       "      <td>0.03</td>\n",
       "      <td>0.02</td>\n",
       "    </tr>\n",
       "    <tr>\n",
       "      <th>prev_child_mag</th>\n",
       "      <td>0.15</td>\n",
       "      <td>0.10</td>\n",
       "      <td>0.04</td>\n",
       "      <td>0.05</td>\n",
       "      <td>-0.01</td>\n",
       "      <td>0.06</td>\n",
       "      <td>-0.04</td>\n",
       "      <td>-0.02</td>\n",
       "      <td>0.01</td>\n",
       "      <td>0.05</td>\n",
       "      <td>0.01</td>\n",
       "      <td>0.02</td>\n",
       "      <td>0.01</td>\n",
       "      <td>-0.02</td>\n",
       "      <td>0.03</td>\n",
       "      <td>1.00</td>\n",
       "      <td>-0.02</td>\n",
       "    </tr>\n",
       "    <tr>\n",
       "      <th>prev_parent_mag</th>\n",
       "      <td>0.07</td>\n",
       "      <td>0.08</td>\n",
       "      <td>-0.00</td>\n",
       "      <td>0.01</td>\n",
       "      <td>0.08</td>\n",
       "      <td>0.01</td>\n",
       "      <td>-0.03</td>\n",
       "      <td>-0.02</td>\n",
       "      <td>0.03</td>\n",
       "      <td>0.09</td>\n",
       "      <td>-0.05</td>\n",
       "      <td>0.05</td>\n",
       "      <td>-0.05</td>\n",
       "      <td>0.05</td>\n",
       "      <td>0.02</td>\n",
       "      <td>-0.02</td>\n",
       "      <td>1.00</td>\n",
       "    </tr>\n",
       "  </tbody>\n",
       "</table>\n",
       "</div>"
      ],
      "text/plain": [
       "                   buy  income  is_female  is_married  has_college  \\\n",
       "buy               1.00    0.68       0.08        0.36         0.20   \n",
       "income            0.68    1.00      -0.05        0.43         0.32   \n",
       "is_female         0.08   -0.05       1.00        0.07        -0.10   \n",
       "is_married        0.36    0.43       0.07        1.00         0.12   \n",
       "has_college       0.20    0.32      -0.10        0.12         1.00   \n",
       "is_professional   0.23    0.38      -0.02        0.10         0.37   \n",
       "is_retired       -0.02    0.03       0.01        0.11         0.04   \n",
       "unemployed       -0.06   -0.14      -0.04       -0.06        -0.04   \n",
       "residence_length  0.16    0.20       0.03        0.23         0.01   \n",
       "dual_income       0.31    0.33       0.04        0.65         0.14   \n",
       "minors            0.02   -0.10       0.09        0.06        -0.21   \n",
       "own               0.38    0.49       0.09        0.58         0.17   \n",
       "house             0.18    0.19       0.03        0.22        -0.10   \n",
       "white             0.20    0.20       0.08        0.06         0.11   \n",
       "english           0.08    0.07       0.08        0.04         0.08   \n",
       "prev_child_mag    0.15    0.10       0.04        0.05        -0.01   \n",
       "prev_parent_mag   0.07    0.08      -0.00        0.01         0.08   \n",
       "\n",
       "                  is_professional  is_retired  unemployed  residence_length  \\\n",
       "buy                          0.23       -0.02       -0.06              0.16   \n",
       "income                       0.38        0.03       -0.14              0.20   \n",
       "is_female                   -0.02        0.01       -0.04              0.03   \n",
       "is_married                   0.10        0.11       -0.06              0.23   \n",
       "has_college                  0.37        0.04       -0.04              0.01   \n",
       "is_professional              1.00       -0.18       -0.13             -0.00   \n",
       "is_retired                  -0.18        1.00       -0.04              0.17   \n",
       "unemployed                  -0.13       -0.04        1.00             -0.02   \n",
       "residence_length            -0.00        0.17       -0.02              1.00   \n",
       "dual_income                  0.18       -0.14       -0.06              0.09   \n",
       "minors                      -0.17       -0.13        0.06             -0.01   \n",
       "own                          0.17        0.21       -0.05              0.27   \n",
       "house                       -0.05        0.01        0.04              0.16   \n",
       "white                        0.11        0.10       -0.05              0.01   \n",
       "english                      0.12        0.08       -0.09              0.06   \n",
       "prev_child_mag               0.06       -0.04       -0.02              0.01   \n",
       "prev_parent_mag              0.01       -0.03       -0.02              0.03   \n",
       "\n",
       "                  dual_income  minors   own  house  white  english  \\\n",
       "buy                      0.31    0.02  0.38   0.18   0.20     0.08   \n",
       "income                   0.33   -0.10  0.49   0.19   0.20     0.07   \n",
       "is_female                0.04    0.09  0.09   0.03   0.08     0.08   \n",
       "is_married               0.65    0.06  0.58   0.22   0.06     0.04   \n",
       "has_college              0.14   -0.21  0.17  -0.10   0.11     0.08   \n",
       "is_professional          0.18   -0.17  0.17  -0.05   0.11     0.12   \n",
       "is_retired              -0.14   -0.13  0.21   0.01   0.10     0.08   \n",
       "unemployed              -0.06    0.06 -0.05   0.04  -0.05    -0.09   \n",
       "residence_length         0.09   -0.01  0.27   0.16   0.01     0.06   \n",
       "dual_income              1.00    0.02  0.32   0.08   0.02     0.05   \n",
       "minors                   0.02    1.00 -0.05   0.29  -0.16    -0.12   \n",
       "own                      0.32   -0.05  1.00   0.42   0.12     0.08   \n",
       "house                    0.08    0.29  0.42   1.00  -0.03    -0.07   \n",
       "white                    0.02   -0.16  0.12  -0.03   1.00     0.36   \n",
       "english                  0.05   -0.12  0.08  -0.07   0.36     1.00   \n",
       "prev_child_mag           0.05    0.01  0.02   0.01  -0.02     0.03   \n",
       "prev_parent_mag          0.09   -0.05  0.05  -0.05   0.05     0.02   \n",
       "\n",
       "                  prev_child_mag  prev_parent_mag  \n",
       "buy                         0.15             0.07  \n",
       "income                      0.10             0.08  \n",
       "is_female                   0.04            -0.00  \n",
       "is_married                  0.05             0.01  \n",
       "has_college                -0.01             0.08  \n",
       "is_professional             0.06             0.01  \n",
       "is_retired                 -0.04            -0.03  \n",
       "unemployed                 -0.02            -0.02  \n",
       "residence_length            0.01             0.03  \n",
       "dual_income                 0.05             0.09  \n",
       "minors                      0.01            -0.05  \n",
       "own                         0.02             0.05  \n",
       "house                       0.01            -0.05  \n",
       "white                      -0.02             0.05  \n",
       "english                     0.03             0.02  \n",
       "prev_child_mag              1.00            -0.02  \n",
       "prev_parent_mag            -0.02             1.00  "
      ]
     },
     "execution_count": 261,
     "metadata": {},
     "output_type": "execute_result"
    }
   ],
   "source": [
    "correlation_matrix = df.corr().round(2)\n",
    "correlation_matrix"
   ]
  },
  {
   "cell_type": "code",
   "execution_count": 262,
   "metadata": {
    "scrolled": false
   },
   "outputs": [
    {
     "data": {
      "image/png": "[encoded data removed]",
      "text/plain": [
       "<Figure size 1008x1008 with 2 Axes>"
      ]
     },
     "metadata": {
      "needs_background": "light"
     },
     "output_type": "display_data"
    }
   ],
   "source": [
    "# plot heatmap (correlation matrix)\n",
    "\n",
    "fig, ax = plt.subplots(figsize=(14,14))\n",
    "#sns.set(rc={'figure.figsize':(14,14)})\n",
    "\n",
    "sns.heatmap(data=correlation_matrix, annot=True,  # annot=True  prints the values inside the square\n",
    "            cmap='RdBu_r'); # square=True, "
   ]
  },
  {
   "cell_type": "markdown",
   "metadata": {},
   "source": [
    "### Heatmap (Odds Ratio)"
   ]
  },
  {
   "cell_type": "code",
   "execution_count": 263,
   "metadata": {},
   "outputs": [
    {
     "data": {
      "text/html": [
       "<div>\n",
       "<style scoped>\n",
       "    .dataframe tbody tr th:only-of-type {\n",
       "        vertical-align: middle;\n",
       "    }\n",
       "\n",
       "    .dataframe tbody tr th {\n",
       "        vertical-align: top;\n",
       "    }\n",
       "\n",
       "    .dataframe thead th {\n",
       "        text-align: right;\n",
       "    }\n",
       "</style>\n",
       "<table border=\"1\" class=\"dataframe\">\n",
       "  <thead>\n",
       "    <tr style=\"text-align: right;\">\n",
       "      <th></th>\n",
       "      <th>buy</th>\n",
       "      <th>is_female</th>\n",
       "      <th>is_married</th>\n",
       "      <th>has_college</th>\n",
       "      <th>is_professional</th>\n",
       "      <th>is_retired</th>\n",
       "      <th>unemployed</th>\n",
       "      <th>dual_income</th>\n",
       "      <th>minors</th>\n",
       "      <th>own</th>\n",
       "      <th>house</th>\n",
       "      <th>white</th>\n",
       "      <th>english</th>\n",
       "      <th>prev_child_mag</th>\n",
       "      <th>prev_parent_mag</th>\n",
       "    </tr>\n",
       "  </thead>\n",
       "  <tbody>\n",
       "    <tr>\n",
       "      <th>buy</th>\n",
       "      <td>inf</td>\n",
       "      <td>1.50566</td>\n",
       "      <td>6.48796</td>\n",
       "      <td>2.82393</td>\n",
       "      <td>3.21675</td>\n",
       "      <td>0.78686</td>\n",
       "      <td>0.212903</td>\n",
       "      <td>4.97138</td>\n",
       "      <td>1.11069</td>\n",
       "      <td>7.64094</td>\n",
       "      <td>3.33436</td>\n",
       "      <td>4.31046</td>\n",
       "      <td>2.73171</td>\n",
       "      <td>3.20787</td>\n",
       "      <td>1.81517</td>\n",
       "    </tr>\n",
       "    <tr>\n",
       "      <th>is_female</th>\n",
       "      <td>1.50566</td>\n",
       "      <td>inf</td>\n",
       "      <td>1.35652</td>\n",
       "      <td>0.655946</td>\n",
       "      <td>0.928271</td>\n",
       "      <td>1.0568</td>\n",
       "      <td>0.600829</td>\n",
       "      <td>1.22625</td>\n",
       "      <td>1.44022</td>\n",
       "      <td>1.46245</td>\n",
       "      <td>1.1287</td>\n",
       "      <td>1.40564</td>\n",
       "      <td>1.73941</td>\n",
       "      <td>1.38807</td>\n",
       "      <td>0.967873</td>\n",
       "    </tr>\n",
       "    <tr>\n",
       "      <th>is_married</th>\n",
       "      <td>6.48796</td>\n",
       "      <td>1.35652</td>\n",
       "      <td>inf</td>\n",
       "      <td>1.6897</td>\n",
       "      <td>1.52302</td>\n",
       "      <td>2.55786</td>\n",
       "      <td>0.428826</td>\n",
       "      <td>46.2427</td>\n",
       "      <td>1.30286</td>\n",
       "      <td>14.9958</td>\n",
       "      <td>2.91806</td>\n",
       "      <td>1.33722</td>\n",
       "      <td>1.31238</td>\n",
       "      <td>1.49377</td>\n",
       "      <td>1.09579</td>\n",
       "    </tr>\n",
       "  </tbody>\n",
       "</table>\n",
       "</div>"
      ],
      "text/plain": [
       "                buy is_female is_married has_college is_professional  \\\n",
       "buy             inf   1.50566    6.48796     2.82393         3.21675   \n",
       "is_female   1.50566       inf    1.35652    0.655946        0.928271   \n",
       "is_married  6.48796   1.35652        inf      1.6897         1.52302   \n",
       "\n",
       "           is_retired unemployed dual_income   minors      own    house  \\\n",
       "buy           0.78686   0.212903     4.97138  1.11069  7.64094  3.33436   \n",
       "is_female      1.0568   0.600829     1.22625  1.44022  1.46245   1.1287   \n",
       "is_married    2.55786   0.428826     46.2427  1.30286  14.9958  2.91806   \n",
       "\n",
       "              white  english prev_child_mag prev_parent_mag  \n",
       "buy         4.31046  2.73171        3.20787         1.81517  \n",
       "is_female   1.40564  1.73941        1.38807        0.967873  \n",
       "is_married  1.33722  1.31238        1.49377         1.09579  "
      ]
     },
     "execution_count": 263,
     "metadata": {},
     "output_type": "execute_result"
    }
   ],
   "source": [
    "# heatmap with odds ratio instead of Pearson correlation\n",
    "\n",
    "import scipy.stats as stats\n",
    "df_binary = df.drop(num_cols, axis=1).copy()\n",
    "df_odds = pd.DataFrame(index = df_binary.columns,\n",
    "                       columns = df_binary.columns)\n",
    "\n",
    "# calculate odds ratio from cross-table for each feature pair and save to new dataframe\n",
    "for col_i in df_binary:\n",
    "    for col_j in df_binary:\n",
    "        odds_table = pd.crosstab(index=df[col_i], columns=df[col_j])\n",
    "        oddsratio, pvalue = stats.fisher_exact(odds_table.values)\n",
    "        df_odds.loc[col_i, col_j] = oddsratio\n",
    "        \n",
    "df_odds.head(3)"
   ]
  },
  {
   "cell_type": "code",
   "execution_count": 264,
   "metadata": {},
   "outputs": [
    {
     "data": {
      "text/html": [
       "<div>\n",
       "<style scoped>\n",
       "    .dataframe tbody tr th:only-of-type {\n",
       "        vertical-align: middle;\n",
       "    }\n",
       "\n",
       "    .dataframe tbody tr th {\n",
       "        vertical-align: top;\n",
       "    }\n",
       "\n",
       "    .dataframe thead th {\n",
       "        text-align: right;\n",
       "    }\n",
       "</style>\n",
       "<table border=\"1\" class=\"dataframe\">\n",
       "  <thead>\n",
       "    <tr style=\"text-align: right;\">\n",
       "      <th>is_female</th>\n",
       "      <th>0</th>\n",
       "      <th>1</th>\n",
       "    </tr>\n",
       "    <tr>\n",
       "      <th>buy</th>\n",
       "      <th></th>\n",
       "      <th></th>\n",
       "    </tr>\n",
       "  </thead>\n",
       "  <tbody>\n",
       "    <tr>\n",
       "      <th>0</th>\n",
       "      <td>256</td>\n",
       "      <td>292</td>\n",
       "    </tr>\n",
       "    <tr>\n",
       "      <th>1</th>\n",
       "      <td>46</td>\n",
       "      <td>79</td>\n",
       "    </tr>\n",
       "  </tbody>\n",
       "</table>\n",
       "</div>"
      ],
      "text/plain": [
       "is_female    0    1\n",
       "buy                \n",
       "0          256  292\n",
       "1           46   79"
      ]
     },
     "execution_count": 264,
     "metadata": {},
     "output_type": "execute_result"
    }
   ],
   "source": [
    "# for exercise: show cross table and odds ratio for one example pair\n",
    "odds_table = pd.crosstab(index=df['buy'], columns=df['is_female'])\n",
    "oddsratio, pvalue = stats.fisher_exact(odds_table.values)\n",
    "odds_table"
   ]
  },
  {
   "cell_type": "code",
   "execution_count": 265,
   "metadata": {},
   "outputs": [
    {
     "data": {
      "text/plain": [
       "(1.5056581298391898, 1.50565812983919)"
      ]
     },
     "execution_count": 265,
     "metadata": {},
     "output_type": "execute_result"
    }
   ],
   "source": [
    "# for exercise: calculate odds ratio per hand: \n",
    "my_oddsratio = (256/46) / (292/79)  # (male not buy / male buy) / (female not buy / female buy)\n",
    "my_oddsratio, oddsratio"
   ]
  },
  {
   "cell_type": "code",
   "execution_count": 266,
   "metadata": {},
   "outputs": [
    {
     "data": {
      "text/html": [
       "<div>\n",
       "<style scoped>\n",
       "    .dataframe tbody tr th:only-of-type {\n",
       "        vertical-align: middle;\n",
       "    }\n",
       "\n",
       "    .dataframe tbody tr th {\n",
       "        vertical-align: top;\n",
       "    }\n",
       "\n",
       "    .dataframe thead th {\n",
       "        text-align: right;\n",
       "    }\n",
       "</style>\n",
       "<table border=\"1\" class=\"dataframe\">\n",
       "  <thead>\n",
       "    <tr style=\"text-align: right;\">\n",
       "      <th>buy</th>\n",
       "      <th>0</th>\n",
       "      <th>1</th>\n",
       "    </tr>\n",
       "    <tr>\n",
       "      <th>is_female</th>\n",
       "      <th></th>\n",
       "      <th></th>\n",
       "    </tr>\n",
       "  </thead>\n",
       "  <tbody>\n",
       "    <tr>\n",
       "      <th>0</th>\n",
       "      <td>256</td>\n",
       "      <td>46</td>\n",
       "    </tr>\n",
       "    <tr>\n",
       "      <th>1</th>\n",
       "      <td>292</td>\n",
       "      <td>79</td>\n",
       "    </tr>\n",
       "  </tbody>\n",
       "</table>\n",
       "</div>"
      ],
      "text/plain": [
       "buy          0   1\n",
       "is_female         \n",
       "0          256  46\n",
       "1          292  79"
      ]
     },
     "execution_count": 266,
     "metadata": {},
     "output_type": "execute_result"
    }
   ],
   "source": [
    "# for exercise: what happens if we switch rows and columns?\n",
    "odds_table = pd.crosstab(index=df['is_female'], columns=df['buy'])\n",
    "oddsratio, pvalue = stats.fisher_exact(odds_table.values)\n",
    "odds_table"
   ]
  },
  {
   "cell_type": "code",
   "execution_count": 267,
   "metadata": {},
   "outputs": [
    {
     "data": {
      "text/plain": [
       "(1.50565812983919, 1.50565812983919, 1.5056581298391898)"
      ]
     },
     "execution_count": 267,
     "metadata": {},
     "output_type": "execute_result"
    }
   ],
   "source": [
    "my_oddsratio2 = (256/292) / (46/79)\n",
    "oddsratio, my_oddsratio2, my_oddsratio"
   ]
  },
  {
   "cell_type": "code",
   "execution_count": 268,
   "metadata": {},
   "outputs": [
    {
     "name": "stdout",
     "output_type": "stream",
     "text": [
      "1.50565812983919 0.6641613924050633\n",
      "0.40923009818920725 -0.40923009818920714\n"
     ]
    }
   ],
   "source": [
    "# for exercise: check inverse of oddsratio and log(oddsratio) --> the log makes it symmetric around zero!\n",
    "print(oddsratio, 1/oddsratio)\n",
    "print(np.log(oddsratio), np.log(1/oddsratio))"
   ]
  },
  {
   "cell_type": "code",
   "execution_count": 269,
   "metadata": {},
   "outputs": [
    {
     "data": {
      "text/html": [
       "<div>\n",
       "<style scoped>\n",
       "    .dataframe tbody tr th:only-of-type {\n",
       "        vertical-align: middle;\n",
       "    }\n",
       "\n",
       "    .dataframe tbody tr th {\n",
       "        vertical-align: top;\n",
       "    }\n",
       "\n",
       "    .dataframe thead th {\n",
       "        text-align: right;\n",
       "    }\n",
       "</style>\n",
       "<table border=\"1\" class=\"dataframe\">\n",
       "  <thead>\n",
       "    <tr style=\"text-align: right;\">\n",
       "      <th></th>\n",
       "      <th>buy</th>\n",
       "      <th>is_female</th>\n",
       "      <th>is_married</th>\n",
       "      <th>has_college</th>\n",
       "      <th>is_professional</th>\n",
       "      <th>is_retired</th>\n",
       "      <th>unemployed</th>\n",
       "      <th>dual_income</th>\n",
       "      <th>minors</th>\n",
       "      <th>own</th>\n",
       "      <th>house</th>\n",
       "      <th>white</th>\n",
       "      <th>english</th>\n",
       "      <th>prev_child_mag</th>\n",
       "      <th>prev_parent_mag</th>\n",
       "    </tr>\n",
       "  </thead>\n",
       "  <tbody>\n",
       "    <tr>\n",
       "      <th>buy</th>\n",
       "      <td>inf</td>\n",
       "      <td>0.409230</td>\n",
       "      <td>1.869948</td>\n",
       "      <td>1.038130</td>\n",
       "      <td>1.168371</td>\n",
       "      <td>-0.239705</td>\n",
       "      <td>-1.546918</td>\n",
       "      <td>1.603698</td>\n",
       "      <td>0.104978</td>\n",
       "      <td>2.033520</td>\n",
       "      <td>1.204280</td>\n",
       "      <td>1.461045</td>\n",
       "      <td>1.004927</td>\n",
       "      <td>1.165608</td>\n",
       "      <td>0.596180</td>\n",
       "    </tr>\n",
       "    <tr>\n",
       "      <th>is_female</th>\n",
       "      <td>0.409230</td>\n",
       "      <td>inf</td>\n",
       "      <td>0.304924</td>\n",
       "      <td>-0.421677</td>\n",
       "      <td>-0.074431</td>\n",
       "      <td>0.055246</td>\n",
       "      <td>-0.509445</td>\n",
       "      <td>0.203964</td>\n",
       "      <td>0.364797</td>\n",
       "      <td>0.380111</td>\n",
       "      <td>0.121062</td>\n",
       "      <td>0.340495</td>\n",
       "      <td>0.553547</td>\n",
       "      <td>0.327917</td>\n",
       "      <td>-0.032654</td>\n",
       "    </tr>\n",
       "    <tr>\n",
       "      <th>is_married</th>\n",
       "      <td>1.869948</td>\n",
       "      <td>0.304924</td>\n",
       "      <td>inf</td>\n",
       "      <td>0.524549</td>\n",
       "      <td>0.420692</td>\n",
       "      <td>0.939170</td>\n",
       "      <td>-0.846704</td>\n",
       "      <td>3.833904</td>\n",
       "      <td>0.264560</td>\n",
       "      <td>2.707769</td>\n",
       "      <td>1.070919</td>\n",
       "      <td>0.290593</td>\n",
       "      <td>0.271840</td>\n",
       "      <td>0.401303</td>\n",
       "      <td>0.091480</td>\n",
       "    </tr>\n",
       "  </tbody>\n",
       "</table>\n",
       "</div>"
      ],
      "text/plain": [
       "                 buy  is_female  is_married  has_college  is_professional  \\\n",
       "buy              inf   0.409230    1.869948     1.038130         1.168371   \n",
       "is_female   0.409230        inf    0.304924    -0.421677        -0.074431   \n",
       "is_married  1.869948   0.304924         inf     0.524549         0.420692   \n",
       "\n",
       "            is_retired  unemployed  dual_income    minors       own     house  \\\n",
       "buy          -0.239705   -1.546918     1.603698  0.104978  2.033520  1.204280   \n",
       "is_female     0.055246   -0.509445     0.203964  0.364797  0.380111  0.121062   \n",
       "is_married    0.939170   -0.846704     3.833904  0.264560  2.707769  1.070919   \n",
       "\n",
       "               white   english  prev_child_mag  prev_parent_mag  \n",
       "buy         1.461045  1.004927        1.165608         0.596180  \n",
       "is_female   0.340495  0.553547        0.327917        -0.032654  \n",
       "is_married  0.290593  0.271840        0.401303         0.091480  "
      ]
     },
     "execution_count": 269,
     "metadata": {},
     "output_type": "execute_result"
    }
   ],
   "source": [
    "# convert all cells from object to float\n",
    "df_odds.dtypes \n",
    "df_odds = df_odds.apply(pd.to_numeric, errors='coerce')\n",
    "\n",
    "# create new dataframe with log odds\n",
    "df_log_odds = df_odds.apply(np.log)  # np.log1p\n",
    "df_log_odds.head(3)"
   ]
  },
  {
   "cell_type": "code",
   "execution_count": 270,
   "metadata": {},
   "outputs": [
    {
     "data": {
      "text/html": [
       "<div>\n",
       "<style scoped>\n",
       "    .dataframe tbody tr th:only-of-type {\n",
       "        vertical-align: middle;\n",
       "    }\n",
       "\n",
       "    .dataframe tbody tr th {\n",
       "        vertical-align: top;\n",
       "    }\n",
       "\n",
       "    .dataframe thead th {\n",
       "        text-align: right;\n",
       "    }\n",
       "</style>\n",
       "<table border=\"1\" class=\"dataframe\">\n",
       "  <thead>\n",
       "    <tr style=\"text-align: right;\">\n",
       "      <th></th>\n",
       "      <th>buy</th>\n",
       "      <th>is_female</th>\n",
       "      <th>is_married</th>\n",
       "      <th>has_college</th>\n",
       "      <th>is_professional</th>\n",
       "      <th>is_retired</th>\n",
       "      <th>unemployed</th>\n",
       "      <th>dual_income</th>\n",
       "      <th>minors</th>\n",
       "      <th>own</th>\n",
       "      <th>house</th>\n",
       "      <th>white</th>\n",
       "      <th>english</th>\n",
       "      <th>prev_child_mag</th>\n",
       "      <th>prev_parent_mag</th>\n",
       "    </tr>\n",
       "  </thead>\n",
       "  <tbody>\n",
       "    <tr>\n",
       "      <th>buy</th>\n",
       "      <td>inf</td>\n",
       "      <td>1.505658</td>\n",
       "      <td>6.487957</td>\n",
       "      <td>2.823932</td>\n",
       "      <td>3.216748</td>\n",
       "      <td>-1.270874</td>\n",
       "      <td>-4.696970</td>\n",
       "      <td>4.971384</td>\n",
       "      <td>1.110686</td>\n",
       "      <td>7.640935</td>\n",
       "      <td>3.334356</td>\n",
       "      <td>4.310463</td>\n",
       "      <td>2.731707</td>\n",
       "      <td>3.207872</td>\n",
       "      <td>1.815171</td>\n",
       "    </tr>\n",
       "    <tr>\n",
       "      <th>is_female</th>\n",
       "      <td>1.505658</td>\n",
       "      <td>inf</td>\n",
       "      <td>1.356522</td>\n",
       "      <td>-1.524516</td>\n",
       "      <td>-1.077271</td>\n",
       "      <td>1.056801</td>\n",
       "      <td>-1.664368</td>\n",
       "      <td>1.226254</td>\n",
       "      <td>1.440221</td>\n",
       "      <td>1.462447</td>\n",
       "      <td>1.128695</td>\n",
       "      <td>1.405643</td>\n",
       "      <td>1.739412</td>\n",
       "      <td>1.388074</td>\n",
       "      <td>-1.033193</td>\n",
       "    </tr>\n",
       "    <tr>\n",
       "      <th>is_married</th>\n",
       "      <td>6.487957</td>\n",
       "      <td>1.356522</td>\n",
       "      <td>inf</td>\n",
       "      <td>1.689697</td>\n",
       "      <td>1.523016</td>\n",
       "      <td>2.557857</td>\n",
       "      <td>-2.331948</td>\n",
       "      <td>46.242704</td>\n",
       "      <td>1.302857</td>\n",
       "      <td>14.995785</td>\n",
       "      <td>2.918061</td>\n",
       "      <td>1.337221</td>\n",
       "      <td>1.312377</td>\n",
       "      <td>1.493769</td>\n",
       "      <td>1.095794</td>\n",
       "    </tr>\n",
       "    <tr>\n",
       "      <th>has_college</th>\n",
       "      <td>2.823932</td>\n",
       "      <td>-1.524516</td>\n",
       "      <td>1.689697</td>\n",
       "      <td>inf</td>\n",
       "      <td>5.352727</td>\n",
       "      <td>1.401547</td>\n",
       "      <td>-1.760846</td>\n",
       "      <td>1.975806</td>\n",
       "      <td>-2.909799</td>\n",
       "      <td>2.162162</td>\n",
       "      <td>-1.564031</td>\n",
       "      <td>1.708861</td>\n",
       "      <td>1.954121</td>\n",
       "      <td>-1.106095</td>\n",
       "      <td>1.746238</td>\n",
       "    </tr>\n",
       "    <tr>\n",
       "      <th>is_professional</th>\n",
       "      <td>3.216748</td>\n",
       "      <td>-1.077271</td>\n",
       "      <td>1.523016</td>\n",
       "      <td>5.352727</td>\n",
       "      <td>inf</td>\n",
       "      <td>-inf</td>\n",
       "      <td>-inf</td>\n",
       "      <td>2.401316</td>\n",
       "      <td>-2.237633</td>\n",
       "      <td>2.113806</td>\n",
       "      <td>-1.245205</td>\n",
       "      <td>1.719540</td>\n",
       "      <td>2.862245</td>\n",
       "      <td>1.548113</td>\n",
       "      <td>1.045045</td>\n",
       "    </tr>\n",
       "  </tbody>\n",
       "</table>\n",
       "</div>"
      ],
      "text/plain": [
       "                      buy  is_female  is_married  has_college  \\\n",
       "buy                   inf   1.505658    6.487957     2.823932   \n",
       "is_female        1.505658        inf    1.356522    -1.524516   \n",
       "is_married       6.487957   1.356522         inf     1.689697   \n",
       "has_college      2.823932  -1.524516    1.689697          inf   \n",
       "is_professional  3.216748  -1.077271    1.523016     5.352727   \n",
       "\n",
       "                 is_professional  is_retired  unemployed  dual_income  \\\n",
       "buy                     3.216748   -1.270874   -4.696970     4.971384   \n",
       "is_female              -1.077271    1.056801   -1.664368     1.226254   \n",
       "is_married              1.523016    2.557857   -2.331948    46.242704   \n",
       "has_college             5.352727    1.401547   -1.760846     1.975806   \n",
       "is_professional              inf        -inf        -inf     2.401316   \n",
       "\n",
       "                   minors        own     house     white   english  \\\n",
       "buy              1.110686   7.640935  3.334356  4.310463  2.731707   \n",
       "is_female        1.440221   1.462447  1.128695  1.405643  1.739412   \n",
       "is_married       1.302857  14.995785  2.918061  1.337221  1.312377   \n",
       "has_college     -2.909799   2.162162 -1.564031  1.708861  1.954121   \n",
       "is_professional -2.237633   2.113806 -1.245205  1.719540  2.862245   \n",
       "\n",
       "                 prev_child_mag  prev_parent_mag  \n",
       "buy                    3.207872         1.815171  \n",
       "is_female              1.388074        -1.033193  \n",
       "is_married             1.493769         1.095794  \n",
       "has_college           -1.106095         1.746238  \n",
       "is_professional        1.548113         1.045045  "
      ]
     },
     "execution_count": 270,
     "metadata": {},
     "output_type": "execute_result"
    }
   ],
   "source": [
    "# create new dataframe in which odds ratios below 1 are converted to negative inverse\n",
    "df_odds_sym = df_odds.copy()\n",
    "df_odds_sym[df_odds_sym < 1] = -1 / df_odds_sym[df_odds_sym <= 1]\n",
    "df_odds_sym.head()"
   ]
  },
  {
   "cell_type": "code",
   "execution_count": 271,
   "metadata": {},
   "outputs": [
    {
     "data": {
      "image/png": "[encoded data removed]",
      "text/plain": [
       "<Figure size 1008x1008 with 2 Axes>"
      ]
     },
     "metadata": {
      "needs_background": "light"
     },
     "output_type": "display_data"
    }
   ],
   "source": [
    "# plot heatmap with odds, symmetric odds, or log odds\n",
    "\n",
    "fig, ax = plt.subplots(figsize=(14,14))\n",
    "#sns.heatmap(data=df_odds, annot=True, cmap='Reds', vmin = 0, vmax = 10, square=True);   # OrRd\n",
    "sns.heatmap(data=df_odds_sym, annot=True, cmap='RdBu_r', vmin=-5, vmax=5, square=True);"
   ]
  },
  {
   "cell_type": "markdown",
   "metadata": {},
   "source": [
    "Some observations from this heatmap: \n",
    "- The odds of buying are **much higher** (>4 times) if: married, dual income, own house, white\n",
    "- The odds of buying are **slightly higher** if: female, has college, is professional, english, single family house\n",
    "- The odds of buying are **much lower** (>4 times) if: unemployed\n",
    "- The odds of buying are **slightly lower** if: retired\n",
    "\n",
    "Besides, some other strong **positive** relationships include: white and english, dual income and married, has college and is professional, own house and single family house.<br>\n",
    "Some other strong **negative** relationships include: being retired and having minors in the house"
   ]
  },
  {
   "cell_type": "markdown",
   "metadata": {},
   "source": [
    "## Logistic Regression"
   ]
  },
  {
   "cell_type": "markdown",
   "metadata": {},
   "source": [
    "### Multivariate logistic regression"
   ]
  },
  {
   "cell_type": "code",
   "execution_count": 272,
   "metadata": {
    "scrolled": true
   },
   "outputs": [],
   "source": [
    "# dependent variable\n",
    "y = df.buy\n",
    "\n",
    "# independent variables\n",
    "X = df.drop('buy', axis=1)"
   ]
  },
  {
   "cell_type": "code",
   "execution_count": 273,
   "metadata": {},
   "outputs": [
    {
     "data": {
      "text/plain": [
       "((504, 16), (169, 16), (504,), (169,))"
      ]
     },
     "execution_count": 273,
     "metadata": {},
     "output_type": "execute_result"
    }
   ],
   "source": [
    "# Prior to training our model, we’ll set aside a portion of our data in order to evaluate its performance\n",
    "\n",
    "from sklearn.model_selection import train_test_split\n",
    "\n",
    "X_train, X_test, y_train, y_test = train_test_split(X, y, random_state=1)\n",
    "X_train.shape, X_test.shape, y_train.shape, y_test.shape"
   ]
  },
  {
   "cell_type": "code",
   "execution_count": 274,
   "metadata": {},
   "outputs": [
    {
     "data": {
      "text/plain": [
       "LogisticRegression(C=1.0, class_weight=None, dual=False, fit_intercept=True,\n",
       "                   intercept_scaling=1, l1_ratio=None, max_iter=100,\n",
       "                   multi_class='warn', n_jobs=None, penalty='l2',\n",
       "                   random_state=None, solver='liblinear', tol=0.0001, verbose=0,\n",
       "                   warm_start=False)"
      ]
     },
     "execution_count": 274,
     "metadata": {},
     "output_type": "execute_result"
    }
   ],
   "source": [
    "# We instantiate an instance of the LogisticRegression class and call the fit function with the features \n",
    "# and the labels (since Logistic Regression is a supervised machine learning algorithm) as arguments.\n",
    "\n",
    "from sklearn.linear_model import LogisticRegression\n",
    "\n",
    "logr = LogisticRegression(solver='liblinear')  # Default solver will change from ‘liblinear’ to ‘lbfgs’ in 0.22.\n",
    "logr.fit(X_train, y_train)"
   ]
  },
  {
   "cell_type": "code",
   "execution_count": 275,
   "metadata": {},
   "outputs": [
    {
     "name": "stdout",
     "output_type": "stream",
     "text": [
      "[[ 7.78902068e-05 -2.19293273e-01  3.21178677e-01 -1.53624060e-01\n",
      "  -2.72363528e-01 -2.40768365e-01 -1.32884938e-01 -1.49845559e-02\n",
      "   4.12513356e-01 -5.44759022e-01  6.16026857e-01 -7.07704623e-01\n",
      "  -3.23867113e-01 -1.47298253e+00  1.63694071e-01 -5.05241202e-02]]\n",
      "[-2.7631717]\n"
     ]
    }
   ],
   "source": [
    "# We can access the following properties to actually view the coefficient for the slope and y-intercept \n",
    "# of the best fitting model.\n",
    "print(logr.coef_)\n",
    "print(logr.intercept_)"
   ]
  },
  {
   "cell_type": "code",
   "execution_count": 276,
   "metadata": {},
   "outputs": [
    {
     "data": {
      "text/plain": [
       "array([0, 0, 0, 0, 0])"
      ]
     },
     "execution_count": 276,
     "metadata": {},
     "output_type": "execute_result"
    }
   ],
   "source": [
    "# Let’s see how the model performs against data that it hasn’t been trained on.\n",
    "\n",
    "y_pred = logr.predict(X_test)\n",
    "y_pred[:5]"
   ]
  },
  {
   "cell_type": "code",
   "execution_count": 277,
   "metadata": {},
   "outputs": [
    {
     "data": {
      "text/plain": [
       "(array([0, 0, 0, 0, 0]), array([0, 0, 0, 0, 0]))"
      ]
     },
     "execution_count": 277,
     "metadata": {},
     "output_type": "execute_result"
    }
   ],
   "source": [
    "# now we have for each sample in test set one true and one predicted label\n",
    "y_test.values[:5], y_pred[:5]"
   ]
  },
  {
   "cell_type": "code",
   "execution_count": 278,
   "metadata": {},
   "outputs": [
    {
     "data": {
      "text/plain": [
       "array([[0.74671543, 0.25328457],\n",
       "       [0.58933422, 0.41066578],\n",
       "       [0.86693497, 0.13306503],\n",
       "       [0.71046273, 0.28953727],\n",
       "       [0.99794909, 0.00205091]])"
      ]
     },
     "execution_count": 278,
     "metadata": {},
     "output_type": "execute_result"
    }
   ],
   "source": [
    "# If for whatever reason we’d like to check the actual probability that a data \n",
    "# point belongs to a given class, we can use the predict_proba function.\n",
    "# first column is probability of y=0, second column is probability of y=1 (for a given x value = row)\n",
    "\n",
    "y_pred_proba = logr.predict_proba(X_test)\n",
    "y_pred_proba[:5]"
   ]
  },
  {
   "cell_type": "code",
   "execution_count": 279,
   "metadata": {},
   "outputs": [
    {
     "data": {
      "text/plain": [
       "True"
      ]
     },
     "execution_count": 279,
     "metadata": {},
     "output_type": "execute_result"
    }
   ],
   "source": [
    "# The first column corresponds to the probability that the sample belongs to the first class and the\n",
    "# second column corresponds to the probability that the sample belongs to the second class.\n",
    "# Hence, the sum over all columns should give a probability of one (for each row). Check this:\n",
    "\n",
    "all(np.sum(y_pred_proba, axis=1)==1)"
   ]
  },
  {
   "cell_type": "code",
   "execution_count": 280,
   "metadata": {
    "scrolled": true
   },
   "outputs": [
    {
     "data": {
      "text/plain": [
       "array([[130,   2],\n",
       "       [ 13,  24]])"
      ]
     },
     "execution_count": 280,
     "metadata": {},
     "output_type": "execute_result"
    }
   ],
   "source": [
    "# Given that this consists of a classification problem, \n",
    "# we use a confusion matrix to measure the accuracy of our model.\n",
    "\n",
    "from sklearn.metrics import confusion_matrix, accuracy_score, classification_report\n",
    "\n",
    "conf_matrix = confusion_matrix(y_test, y_pred)  # tn, fp, fn, tp\n",
    "conf_matrix"
   ]
  },
  {
   "cell_type": "code",
   "execution_count": 281,
   "metadata": {},
   "outputs": [],
   "source": [
    "TN, FP, FN, TP = conf_matrix.ravel()\n",
    "# TN = 126, FP = 6\n",
    "# FN = 25,  TP = 12"
   ]
  },
  {
   "cell_type": "code",
   "execution_count": 282,
   "metadata": {},
   "outputs": [
    {
     "data": {
      "image/png": "[encoded data removed]",
      "text/plain": [
       "<Figure size 360x360 with 2 Axes>"
      ]
     },
     "metadata": {
      "needs_background": "light"
     },
     "output_type": "display_data"
    },
    {
     "name": "stdout",
     "output_type": "stream",
     "text": [
      "              precision    recall  f1-score   support\n",
      "\n",
      "           0       0.91      0.98      0.95       132\n",
      "           1       0.92      0.65      0.76        37\n",
      "\n",
      "    accuracy                           0.91       169\n",
      "   macro avg       0.92      0.82      0.85       169\n",
      "weighted avg       0.91      0.91      0.91       169\n",
      "\n"
     ]
    }
   ],
   "source": [
    "# plot confusion matrix with seaborn\n",
    "\n",
    "fig, ax = plt.subplots(figsize=(5,5))\n",
    "sns.heatmap(conf_matrix, annot=True, cmap='Blues', fmt='.0f');  # use fmt to suppress scientific notation\n",
    "plt.xlabel('predicted')\n",
    "plt.ylabel('actual')\n",
    "plt.show(); \n",
    "\n",
    "# and show full classification report below\n",
    "print(classification_report(y_test, y_pred))"
   ]
  },
  {
   "cell_type": "code",
   "execution_count": 283,
   "metadata": {},
   "outputs": [
    {
     "data": {
      "image/png": "[encoded data removed]",
      "text/plain": [
       "<Figure size 360x360 with 2 Axes>"
      ]
     },
     "metadata": {
      "needs_background": "light"
     },
     "output_type": "display_data"
    }
   ],
   "source": [
    "# for exercise: build own confusion matrix\n",
    "\n",
    "conf_matrix_own = pd.crosstab(y_test, y_pred, rownames=['Actual'], colnames=['Predicted'])\n",
    "fig, ax = plt.subplots(figsize=(5,5))\n",
    "sns.heatmap(conf_matrix_own, annot=True, cmap='Blues', fmt='.0f');"
   ]
  },
  {
   "cell_type": "code",
   "execution_count": 284,
   "metadata": {},
   "outputs": [
    {
     "name": "stdout",
     "output_type": "stream",
     "text": [
      "Accuracy:  0.9112426035502958\n"
     ]
    }
   ],
   "source": [
    "# calculate accuracy using sklearn metrics [ Accuracy = (TP + TN) / (TP + TN + FP + FN) ]\n",
    "print('Accuracy: ', accuracy_score(y_test, y_pred))"
   ]
  },
  {
   "cell_type": "code",
   "execution_count": 285,
   "metadata": {},
   "outputs": [
    {
     "data": {
      "text/plain": [
       "0.9112426035502958"
      ]
     },
     "execution_count": 285,
     "metadata": {},
     "output_type": "execute_result"
    }
   ],
   "source": [
    "# for exercise: calculate accuracy by hand\n",
    "TP = conf_matrix[1][1]\n",
    "TN = conf_matrix[0][0]\n",
    "Acc = (TP + TN) / conf_matrix.sum().sum()\n",
    "Acc"
   ]
  },
  {
   "cell_type": "code",
   "execution_count": 286,
   "metadata": {},
   "outputs": [],
   "source": [
    "# ToDo: play around with threshold and plot ROC curve of model"
   ]
  },
  {
   "cell_type": "markdown",
   "metadata": {},
   "source": [
    "### ROC curves"
   ]
  },
  {
   "cell_type": "code",
   "execution_count": 287,
   "metadata": {},
   "outputs": [],
   "source": [
    "from sklearn.metrics import roc_curve\n",
    "\n",
    "fpr, tpr, thresholds = roc_curve(y_test, y_pred_proba[:,1])"
   ]
  },
  {
   "cell_type": "markdown",
   "metadata": {},
   "source": [
    "The `roc_curve` function returns three lists:\n",
    "    - thresholds = all unique prediction probabilities in descending order\n",
    "    - fpr = the false positive rate (FP / (FP+TN)) for each threshold\n",
    "    - tpr = the true positive rate  (TP / (TP+FN)) (i.e. recall) for each threshold"
   ]
  },
  {
   "cell_type": "code",
   "execution_count": 288,
   "metadata": {},
   "outputs": [
    {
     "data": {
      "text/plain": [
       "array([1.95581551e+00, 9.55815514e-01, 7.90378719e-01, 7.73939381e-01,\n",
       "       5.08716185e-01, 5.04347752e-01, 4.56666234e-01, 4.06971747e-01,\n",
       "       3.93832225e-01, 3.31489101e-01, 3.28032274e-01, 3.21475070e-01,\n",
       "       2.92063388e-01, 2.68022852e-01, 2.64344263e-01, 2.29620856e-01,\n",
       "       2.21317491e-01, 1.63704301e-01, 1.56984355e-01, 1.18809933e-01,\n",
       "       1.18385541e-01, 1.14578538e-01, 1.12186974e-01, 7.50350712e-02,\n",
       "       7.49117332e-02, 1.94302943e-03])"
      ]
     },
     "execution_count": 288,
     "metadata": {},
     "output_type": "execute_result"
    }
   ],
   "source": [
    "thresholds"
   ]
  },
  {
   "cell_type": "markdown",
   "metadata": {},
   "source": [
    "We can plot the ROC curve for each model as shown below."
   ]
  },
  {
   "cell_type": "code",
   "execution_count": 289,
   "metadata": {},
   "outputs": [
    {
     "data": {
      "image/png": "[encoded data removed]",
      "text/plain": [
       "<Figure size 432x288 with 1 Axes>"
      ]
     },
     "metadata": {
      "needs_background": "light"
     },
     "output_type": "display_data"
    }
   ],
   "source": [
    "import matplotlib.pyplot as plt\n",
    "\n",
    "plt.plot(fpr, tpr,'r-',label = 'Model')\n",
    "plt.plot([0,1],[0,1],'k-',label='random')\n",
    "plt.plot([0,0,1,1],[0,1,1,1],'g-',label='perfect')\n",
    "plt.legend()\n",
    "plt.xlabel('False Positive Rate')\n",
    "plt.ylabel('True Positive Rate')\n",
    "plt.show();"
   ]
  },
  {
   "cell_type": "code",
   "execution_count": 290,
   "metadata": {},
   "outputs": [
    {
     "data": {
      "image/png": "[encoded data removed]",
      "text/plain": [
       "<Figure size 432x288 with 1 Axes>"
      ]
     },
     "metadata": {
      "needs_background": "light"
     },
     "output_type": "display_data"
    }
   ],
   "source": [
    "# Do the same in one cell to test different solvers of the Logistic Regression algorithm\n",
    "\n",
    "solvers = ['newton-cg', 'lbfgs', 'liblinear', 'saga']  # 'sag', \n",
    "\n",
    "for sol in solvers:\n",
    "    logr = LogisticRegression(solver=sol)  # Default solver will change from ‘liblinear’ to ‘lbfgs’ in 0.22.\n",
    "    logr.fit(X_train, y_train)\n",
    "    y_pred_proba = logr.predict_proba(X_test)\n",
    "    fpr, tpr, thresholds = roc_curve(y_test, y_pred_proba[:,1])\n",
    "\n",
    "    plt.plot(fpr, tpr,'-',label=sol)\n",
    "    \n",
    "plt.plot([0,1],[0,1],'k-',label='random')\n",
    "plt.plot([0,0,1,1],[0,1,1,1],'r-',label='perfect')\n",
    "plt.legend()\n",
    "plt.xlabel('False Positive Rate')\n",
    "plt.ylabel('True Positive Rate')\n",
    "plt.show();"
   ]
  },
  {
   "cell_type": "markdown",
   "metadata": {},
   "source": [
    "### Simple logistic regression (buy ~ own)"
   ]
  },
  {
   "cell_type": "code",
   "execution_count": 291,
   "metadata": {},
   "outputs": [
    {
     "data": {
      "text/plain": [
       "'dual_income'"
      ]
     },
     "execution_count": 291,
     "metadata": {},
     "output_type": "execute_result"
    }
   ],
   "source": [
    "# For exercise: Fit logistic regression for only one independent variable\n",
    "\n",
    "# get the binary variable with highest regression coefficient in the multivariate logistic regression (see above)\n",
    "X.columns[logr.coef_.argmax()]    # or: X.iloc[:,logr.coef_.argmax()].name"
   ]
  },
  {
   "cell_type": "code",
   "execution_count": 292,
   "metadata": {},
   "outputs": [
    {
     "data": {
      "text/plain": [
       "(array([[1.93610857]]), array([-2.45456779]))"
      ]
     },
     "execution_count": 292,
     "metadata": {},
     "output_type": "execute_result"
    }
   ],
   "source": [
    "# do simple logistic regression with only 'own' as independent variable (first for entire dataset before CV)\n",
    "x = df.own.to_frame()\n",
    "y = df.buy\n",
    "\n",
    "logr_s = LogisticRegression(solver='lbfgs') #liblinear')  # Default solver will change from ‘liblinear’ to ‘lbfgs’ in 0.22.\n",
    "logr_s.fit(x, y)\n",
    "logr_s.coef_, logr_s.intercept_"
   ]
  },
  {
   "cell_type": "code",
   "execution_count": 293,
   "metadata": {},
   "outputs": [
    {
     "name": "stdout",
     "output_type": "stream",
     "text": [
      "7.640935430463577 7.640935430463577 2.0335200342257957\n"
     ]
    },
    {
     "data": {
      "text/html": [
       "<div>\n",
       "<style scoped>\n",
       "    .dataframe tbody tr th:only-of-type {\n",
       "        vertical-align: middle;\n",
       "    }\n",
       "\n",
       "    .dataframe tbody tr th {\n",
       "        vertical-align: top;\n",
       "    }\n",
       "\n",
       "    .dataframe thead th {\n",
       "        text-align: right;\n",
       "    }\n",
       "</style>\n",
       "<table border=\"1\" class=\"dataframe\">\n",
       "  <thead>\n",
       "    <tr style=\"text-align: right;\">\n",
       "      <th>own</th>\n",
       "      <th>0</th>\n",
       "      <th>1</th>\n",
       "    </tr>\n",
       "    <tr>\n",
       "      <th>buy</th>\n",
       "      <th></th>\n",
       "      <th></th>\n",
       "    </tr>\n",
       "  </thead>\n",
       "  <tbody>\n",
       "    <tr>\n",
       "      <th>0</th>\n",
       "      <td>397</td>\n",
       "      <td>151</td>\n",
       "    </tr>\n",
       "    <tr>\n",
       "      <th>1</th>\n",
       "      <td>32</td>\n",
       "      <td>93</td>\n",
       "    </tr>\n",
       "  </tbody>\n",
       "</table>\n",
       "</div>"
      ],
      "text/plain": [
       "own    0    1\n",
       "buy          \n",
       "0    397  151\n",
       "1     32   93"
      ]
     },
     "execution_count": 293,
     "metadata": {},
     "output_type": "execute_result"
    }
   ],
   "source": [
    "# for exercise: show cross table for 'own' with 'buy' and compute oddsratio and logodds\n",
    "odds_table = pd.crosstab(index=df['buy'], columns=df['own'])\n",
    "oddsratio, pvalue = stats.fisher_exact(odds_table.values)\n",
    "my_oddsratio = (397/32) / (151/93)  #  (not_own|not_buy / not_own/buy) / (own|not_buy / own|buy)\n",
    "print(oddsratio, my_oddsratio, np.log(oddsratio))\n",
    "odds_table"
   ]
  },
  {
   "cell_type": "code",
   "execution_count": 294,
   "metadata": {},
   "outputs": [
    {
     "name": "stdout",
     "output_type": "stream",
     "text": [
      "0.6158940397350994\n",
      "0.08060453400503778\n",
      "2.0335200342257957\n"
     ]
    }
   ],
   "source": [
    "# calculate separate odds for each class (own, non-own):\n",
    "print(93/151)  # for own  (should be the same as exp(intercept + slope) of logistic regression)\n",
    "print(32/397)  # for non-own  (should be the same as exp(intercept) of logistic regression)\n",
    "print(np.log(oddsratio))  # log oddsratio should be the same as beta1 (slope) of logistic regression (see below)"
   ]
  },
  {
   "cell_type": "code",
   "execution_count": 295,
   "metadata": {},
   "outputs": [
    {
     "name": "stdout",
     "output_type": "stream",
     "text": [
      "[0.59543728]\n",
      "[0.08590031]\n",
      "[1.93610857]\n"
     ]
    }
   ],
   "source": [
    "# Check transformations between odds ratio, odds, and logit (log odds):\n",
    "# https://user.demogr.mpg.de/doblhammer/logreg.pdf\n",
    "  # Odds = p/1-p = 0.20/0.80 = 0.25\n",
    "  # Logit = ln(Odds) = ln(0.25) = -1.386\n",
    "  # Odds = exp(Logit) = exp(-1.386)=0.25\n",
    "\n",
    "print(np.exp(logr_s.coef_[0] + logr_s.intercept_))  # for own\n",
    "print(np.exp(logr_s.intercept_))  # for non-own\n",
    "print(logr_s.coef_[0])"
   ]
  },
  {
   "cell_type": "code",
   "execution_count": 296,
   "metadata": {},
   "outputs": [
    {
     "data": {
      "text/plain": [
       "((504, 1), (169, 1), (504,), (169,))"
      ]
     },
     "execution_count": 296,
     "metadata": {},
     "output_type": "execute_result"
    }
   ],
   "source": [
    "# Now do the same, but with cross validation (train/test splitting) to compute confusion matrix\n",
    "x_train, x_test, y_train, y_test = train_test_split(x, y, random_state=1)\n",
    "x_train.shape, x_test.shape, y_train.shape, y_test.shape"
   ]
  },
  {
   "cell_type": "code",
   "execution_count": 297,
   "metadata": {},
   "outputs": [
    {
     "data": {
      "text/plain": [
       "LogisticRegression(C=1.0, class_weight=None, dual=False, fit_intercept=True,\n",
       "                   intercept_scaling=1, l1_ratio=None, max_iter=100,\n",
       "                   multi_class='warn', n_jobs=None, penalty='l2',\n",
       "                   random_state=None, solver='liblinear', tol=0.0001, verbose=0,\n",
       "                   warm_start=False)"
      ]
     },
     "execution_count": 297,
     "metadata": {},
     "output_type": "execute_result"
    }
   ],
   "source": [
    "# We instantiate an instance of the LogisticRegression class and call the fit function with the features \n",
    "# and the labels (since Logistic Regression is a supervised machine learning algorithm) as arguments.\n",
    "\n",
    "from sklearn.linear_model import LogisticRegression\n",
    "\n",
    "logr_s = LogisticRegression(solver='liblinear')  # Default solver will change from ‘liblinear’ to ‘lbfgs’ in 0.22.\n",
    "logr_s.fit(x_train, y_train)"
   ]
  },
  {
   "cell_type": "code",
   "execution_count": 298,
   "metadata": {},
   "outputs": [
    {
     "name": "stdout",
     "output_type": "stream",
     "text": [
      "[[1.86448362]]\n",
      "[-2.45754917]\n"
     ]
    }
   ],
   "source": [
    "# We can check the coefficient for the slope and y-intercept of the best fitting model.\n",
    "print(logr_s.coef_)\n",
    "print(logr_s.intercept_)"
   ]
  },
  {
   "cell_type": "code",
   "execution_count": 299,
   "metadata": {},
   "outputs": [
    {
     "data": {
      "image/png": "[encoded data removed]",
      "text/plain": [
       "<Figure size 360x360 with 2 Axes>"
      ]
     },
     "metadata": {
      "needs_background": "light"
     },
     "output_type": "display_data"
    },
    {
     "name": "stdout",
     "output_type": "stream",
     "text": [
      "              precision    recall  f1-score   support\n",
      "\n",
      "           0       0.78      1.00      0.88       132\n",
      "           1       0.00      0.00      0.00        37\n",
      "\n",
      "    accuracy                           0.78       169\n",
      "   macro avg       0.39      0.50      0.44       169\n",
      "weighted avg       0.61      0.78      0.69       169\n",
      "\n"
     ]
    }
   ],
   "source": [
    "# Let’s see the confusion matrix and classification report for this simple logistic regression\n",
    "\n",
    "y_pred = logr_s.predict(x_test)\n",
    "conf_matrix = confusion_matrix(y_test, y_pred)\n",
    "\n",
    "fig, ax = plt.subplots(figsize=(5,5))\n",
    "sns.heatmap(conf_matrix, annot=True, cmap='Blues', fmt='.0f');  # use fmt to suppress scientific notation\n",
    "plt.xlabel('predicted')\n",
    "plt.ylabel('actual')\n",
    "plt.show();\n",
    "\n",
    "print(classification_report(y_test, y_pred))"
   ]
  },
  {
   "cell_type": "markdown",
   "metadata": {},
   "source": [
    "### Simple logistic regression (buy ~ income)"
   ]
  },
  {
   "cell_type": "code",
   "execution_count": 300,
   "metadata": {},
   "outputs": [
    {
     "name": "stdout",
     "output_type": "stream",
     "text": [
      "              precision    recall  f1-score   support\n",
      "\n",
      "           0       0.92      0.99      0.96       132\n",
      "           1       0.96      0.70      0.81        37\n",
      "\n",
      "    accuracy                           0.93       169\n",
      "   macro avg       0.94      0.85      0.88       169\n",
      "weighted avg       0.93      0.93      0.92       169\n",
      "\n"
     ]
    },
    {
     "data": {
      "image/png": "[encoded data removed]",
      "text/plain": [
       "<Figure size 360x360 with 2 Axes>"
      ]
     },
     "metadata": {
      "needs_background": "light"
     },
     "output_type": "display_data"
    }
   ],
   "source": [
    "# repeat the simple logistic regression for a continuous (not a binary) independent variable\n",
    "x = df.income.to_frame()\n",
    "y = df.buy\n",
    "\n",
    "x_train, x_test, y_train, y_test = train_test_split(x, y, random_state=1)\n",
    "logr_s = LogisticRegression(solver='liblinear')  # Default solver will change from ‘liblinear’ to ‘lbfgs’ in 0.22.\n",
    "logr_s.fit(x_train, y_train)\n",
    "\n",
    "y_pred = logr_s.predict(x_test)\n",
    "conf_matrix = confusion_matrix(y_test, y_pred)\n",
    "\n",
    "fig, ax = plt.subplots(figsize=(5,5))\n",
    "sns.heatmap(conf_matrix, annot=True, cmap='Blues', fmt='.0f');  # use fmt to suppress scientific notation\n",
    "plt.xlabel('predicted')\n",
    "plt.ylabel('actual');\n",
    "\n",
    "print(classification_report(y_test, y_pred))"
   ]
  },
  {
   "cell_type": "code",
   "execution_count": 301,
   "metadata": {},
   "outputs": [
    {
     "data": {
      "image/png": "[encoded data removed]",
      "text/plain": [
       "<Figure size 720x288 with 1 Axes>"
      ]
     },
     "metadata": {
      "needs_background": "light"
     },
     "output_type": "display_data"
    }
   ],
   "source": [
    "# Using the sigmoid (expit) function, we calculate for different x the probability to belong to class y=1 and plot it\n",
    "\n",
    "from scipy.special import expit\n",
    "# The expit function, also known as the logistic function, is defined as\n",
    "# expit(x) = 1/(1+exp(-x)). It is the inverse of the logit function.\n",
    "\n",
    "x_plot = np.linspace(0,125000, 125000)\n",
    "regression_function = x_plot * logr_s.coef_[0][0] + logr_s.intercept_[0]  \n",
    "sigmoid_function = expit(regression_function).ravel()  # ravel flattens the data to an ndarray - from (25,) to (25,)?\n",
    "\n",
    "# or:\n",
    "# regression_function = df.income * logr_s.coef_[0][0] + logr_s.intercept_[0]  \n",
    "# sigmoid_function = expit(regression_function).ravel()  # ravel flattens the data to an ndarray - from (25,) to (25,)?\n",
    "# sigm = pd.DataFrame(sigmoid_function, index=None, columns=['sigmoid'])\n",
    "# neu = pd.concat([df.income, sigm], axis=1)\n",
    "# neu.sort_values(by='income',inplace=True)\n",
    "# plt.plot(neu.income, neu.sigmoid)\n",
    "\n",
    "fig, ax = plt.subplots(figsize=(10,4))\n",
    "plt.plot(x_plot, sigmoid_function)\n",
    "plt.scatter(df.income, df.buy, c=df.buy, cmap='rainbow')\n",
    "plt.hlines(0.5, plt.gca().get_xlim()[0], plt.gca().get_xlim()[1], linestyles='dashed')\n",
    "plt.xlabel('income')\n",
    "plt.ylabel('probability of buying');"
   ]
  },
  {
   "cell_type": "markdown",
   "metadata": {},
   "source": [
    "### Simple logistic regression (buy ~ residence_length)"
   ]
  },
  {
   "cell_type": "code",
   "execution_count": 302,
   "metadata": {},
   "outputs": [
    {
     "data": {
      "image/png": "[encoded data removed]",
      "text/plain": [
       "<Figure size 720x288 with 1 Axes>"
      ]
     },
     "metadata": {
      "needs_background": "light"
     },
     "output_type": "display_data"
    }
   ],
   "source": [
    "# repeat with the other continuous independent variable: residence_length\n",
    "x = df.residence_length.to_frame()\n",
    "y = df.buy\n",
    "\n",
    "x_train, x_test, y_train, y_test = train_test_split(x, y, random_state=1)\n",
    "logr_s = LogisticRegression(solver='liblinear')  # Default solver will change from ‘liblinear’ to ‘lbfgs’ in 0.22.\n",
    "logr_s.fit(x_train, y_train)\n",
    "\n",
    "x_plot = np.linspace(0,150,1000)\n",
    "regression_function = x_plot * logr_s.coef_[0][0] + logr_s.intercept_[0]  \n",
    "sigmoid_function = expit(regression_function).ravel()\n",
    "\n",
    "fig, ax = plt.subplots(figsize=(10,4))\n",
    "plt.plot(x_plot, sigmoid_function)\n",
    "plt.scatter(df.residence_length, df.buy, c=df.buy, cmap='rainbow') \n",
    "plt.hlines(0.5, plt.gca().get_xlim()[0], plt.gca().get_xlim()[1], linestyles='dashed')\n",
    "plt.xlabel('residence length')\n",
    "plt.ylabel('probability of buying');"
   ]
  },
  {
   "cell_type": "markdown",
   "metadata": {},
   "source": [
    "### Simple logistic regression (buy ~ own)"
   ]
  },
  {
   "cell_type": "code",
   "execution_count": 305,
   "metadata": {},
   "outputs": [
    {
     "data": {
      "image/png": "[encoded data removed]",
      "text/plain": [
       "<Figure size 864x432 with 1 Axes>"
      ]
     },
     "metadata": {
      "needs_background": "light"
     },
     "output_type": "display_data"
    }
   ],
   "source": [
    "x = df.own.to_frame()\n",
    "y = df.buy\n",
    "\n",
    "x_train, x_test, y_train, y_test = train_test_split(x, y, random_state=1)\n",
    "logr_s = LogisticRegression(solver='liblinear')  # Default solver will change from ‘liblinear’ to ‘lbfgs’ in 0.22.\n",
    "logr_s.fit(x_train, y_train)\n",
    "\n",
    "# get function to include jitter in plots (adapted from stackoverflow)\n",
    "         # https://stackoverflow.com/questions/8671808/matplotlib-avoiding-overlapping-\n",
    "         # datapoints-in-a-scatter-dot-beeswarm-plot\n",
    "def rand_jitter(arr, strength):\n",
    "    stdev = strength*(max(arr)-min(arr))\n",
    "    return arr + np.random.randn(len(arr)) * stdev\n",
    "\n",
    "x_plot = np.linspace(0,2.5,1000)\n",
    "regression_function = x_plot * logr_s.coef_[0][0] + logr_s.intercept_[0]  \n",
    "sigmoid_function = expit(regression_function).ravel()\n",
    "\n",
    "fig, ax = plt.subplots(figsize=(12,6))\n",
    "plt.plot(x_plot, sigmoid_function)\n",
    "\n",
    "plt.scatter(rand_jitter(df.own, 0.05), rand_jitter(df.buy, 0.02), alpha=0.5, s=5, c=df.buy, cmap='rainbow') \n",
    "plt.hlines(0.5, plt.gca().get_xlim()[0], plt.gca().get_xlim()[1], linestyles='dashed')\n",
    "plt.xlabel('own')\n",
    "plt.ylabel('probability of buying');\n"
   ]
  }
 ],
 "metadata": {
  "kernelspec": {
   "display_name": "Python 3",
   "language": "python",
   "name": "python3"
  },
  "language_info": {
   "codemirror_mode": {
    "name": "ipython",
    "version": 3
   },
   "file_extension": ".py",
   "mimetype": "text/x-python",
   "name": "python",
   "nbconvert_exporter": "python",
   "pygments_lexer": "ipython3",
   "version": "3.6.6"
  }
 },
 "nbformat": 4,
 "nbformat_minor": 2
}
